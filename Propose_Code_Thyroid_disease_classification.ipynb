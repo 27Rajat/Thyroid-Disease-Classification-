{
  "nbformat": 4,
  "nbformat_minor": 0,
  "metadata": {
    "colab": {
      "provenance": [],
      "collapsed_sections": []
    },
    "kernelspec": {
      "name": "python3",
      "display_name": "Python 3"
    },
    "language_info": {
      "name": "python"
    }
  },
  "cells": [
    {
      "cell_type": "code",
      "execution_count": 1,
      "metadata": {
        "id": "JwemjSKFnqUb"
      },
      "outputs": [],
      "source": [
        "# importing crucial libraries\n",
        "import numpy as np \n",
        "# numpy to work on numerical data\n",
        "import pandas as pd\n",
        "# pandas to perform operation on dataset\n",
        "import matplotlib.pyplot as plt \n",
        "# visualisation the database  \n",
        "import seaborn as sns\n",
        "# for heatmap"
      ]
    },
    {
      "cell_type": "code",
      "source": [
        "# import the thyroid dataset\n",
        "Thyroid_data = pd.read_csv(\"/content/drive/MyDrive/thyroid dataset.csv\")"
      ],
      "metadata": {
        "id": "-szhO5pKoK8X"
      },
      "execution_count": 2,
      "outputs": []
    },
    {
      "cell_type": "code",
      "source": [
        "pd.set_option('max_columns', None)"
      ],
      "metadata": {
        "id": "Ume38Qz6oK-5"
      },
      "execution_count": 3,
      "outputs": []
    },
    {
      "cell_type": "code",
      "source": [
        "Thyroid_data.head(20) # to visualize starting twenty rows"
      ],
      "metadata": {
        "id": "Mbsl01xdoLBs",
        "colab": {
          "base_uri": "https://localhost:8080/",
          "height": 775
        },
        "outputId": "c988ad0b-ad68-4159-bed3-18a97398985a"
      },
      "execution_count": 4,
      "outputs": [
        {
          "output_type": "execute_result",
          "data": {
            "text/plain": [
              "   age sex on thyroxine query on thyroxine on antithyroid medication sick  \\\n",
              "0   41   F            f                  f                         f    f   \n",
              "1   23   F            f                  f                         f    f   \n",
              "2   46   M            f                  f                         f    f   \n",
              "3   70   F            t                  f                         f    f   \n",
              "4   70   F            f                  f                         f    f   \n",
              "5   18   F            t                  f                         f    f   \n",
              "6   59   F            f                  f                         f    f   \n",
              "7   80   F            f                  f                         f    f   \n",
              "8   66   F            f                  f                         f    f   \n",
              "9   68   M            f                  f                         f    f   \n",
              "10  84   F            f                  f                         f    f   \n",
              "11  67   F            t                  f                         f    f   \n",
              "12  71   F            f                  f                         f    t   \n",
              "13  59   F            f                  f                         f    f   \n",
              "14  28   M            f                  f                         f    f   \n",
              "15  65   F            f                  f                         f    f   \n",
              "16  42   ?            f                  f                         f    f   \n",
              "17  63   F            f                  f                         f    f   \n",
              "18  80   F            f                  f                         f    f   \n",
              "19  28   M            f                  f                         f    f   \n",
              "\n",
              "   pregnant thyroid surgery I131 treatment query hypothyroid  \\\n",
              "0         f               f              f                 f   \n",
              "1         f               f              f                 f   \n",
              "2         f               f              f                 f   \n",
              "3         f               f              f                 f   \n",
              "4         f               f              f                 f   \n",
              "5         f               f              f                 f   \n",
              "6         f               f              f                 f   \n",
              "7         f               f              f                 f   \n",
              "8         f               f              f                 f   \n",
              "9         f               f              f                 f   \n",
              "10        f               f              f                 f   \n",
              "11        f               f              f                 f   \n",
              "12        f               f              f                 f   \n",
              "13        f               f              f                 f   \n",
              "14        f               f              f                 f   \n",
              "15        f               f              f                 t   \n",
              "16        f               f              f                 f   \n",
              "17        f               f              f                 f   \n",
              "18        f               f              f                 f   \n",
              "19        f               f              f                 f   \n",
              "\n",
              "   query hyperthyroid lithium goitre tumor hypopituitary psych TSH measured  \\\n",
              "0                   f       f      f     f             f     f            t   \n",
              "1                   f       f      f     f             f     f            t   \n",
              "2                   f       f      f     f             f     f            t   \n",
              "3                   f       f      f     f             f     f            t   \n",
              "4                   f       f      f     f             f     f            t   \n",
              "5                   f       f      f     f             f     f            t   \n",
              "6                   f       f      f     f             f     f            f   \n",
              "7                   f       f      f     f             f     f            t   \n",
              "8                   f       f      f     t             f     f            t   \n",
              "9                   f       f      f     f             f     f            t   \n",
              "10                  f       f      f     t             f     f            t   \n",
              "11                  f       f      f     f             f     f            t   \n",
              "12                  t       f      f     f             f     f            t   \n",
              "13                  f       f      f     f             f     f            t   \n",
              "14                  f       f      f     f             f     f            t   \n",
              "15                  f       f      f     f             f     f            t   \n",
              "16                  f       f      f     f             f     f            t   \n",
              "17                  f       f      f     f             f     f            t   \n",
              "18                  f       f      f     f             f     t            t   \n",
              "19                  f       f      f     f             f     t            t   \n",
              "\n",
              "     TSH T3 measured   T3 TT4 measured  TT4 T4U measured   T4U FTI measured  \\\n",
              "0    1.3           t  2.5            t  125            t  1.14            t   \n",
              "1    4.1           t    2            t  102            f     ?            f   \n",
              "2   0.98           f    ?            t  109            t  0.91            t   \n",
              "3   0.16           t  1.9            t  175            f     ?            f   \n",
              "4   0.72           t  1.2            t   61            t  0.87            t   \n",
              "5   0.03           f    ?            t  183            t   1.3            t   \n",
              "6      ?           f    ?            t   72            t  0.92            t   \n",
              "7    2.2           t  0.6            t   80            t   0.7            t   \n",
              "8    0.6           t  2.2            t  123            t  0.93            t   \n",
              "9    2.4           t  1.6            t   83            t  0.89            t   \n",
              "10   1.1           t  2.2            t  115            t  0.95            t   \n",
              "11  0.03           f    ?            t  152            t  0.99            t   \n",
              "12  0.03           t  3.8            t  171            t  1.13            t   \n",
              "13   2.8           t  1.7            t   97            t  0.91            t   \n",
              "14   3.3           t  1.8            t  109            t  0.91            t   \n",
              "15    12           f    ?            t   99            t  1.14            t   \n",
              "16   1.2           t  1.8            t   70            t  0.86            t   \n",
              "17   1.5           t  1.2            t  117            t  0.96            t   \n",
              "18     6           t  1.6            t   99            t  0.95            t   \n",
              "19   2.1           t  2.6            t  121            t  0.94            t   \n",
              "\n",
              "    FTI TBG measured TBG referral source binaryClass  \n",
              "0   109            f   ?            SVHC           P  \n",
              "1     ?            f   ?           other           P  \n",
              "2   120            f   ?           other           P  \n",
              "3     ?            f   ?           other           P  \n",
              "4    70            f   ?             SVI           P  \n",
              "5   141            f   ?           other           P  \n",
              "6    78            f   ?           other           P  \n",
              "7   115            f   ?             SVI           P  \n",
              "8   132            f   ?             SVI           P  \n",
              "9    93            f   ?             SVI           P  \n",
              "10  121            f   ?             SVI           P  \n",
              "11  153            f   ?           other           P  \n",
              "12  151            f   ?           other           P  \n",
              "13  107            f   ?             SVI           P  \n",
              "14  119            f   ?            SVHC           P  \n",
              "15   87            f   ?           other           N  \n",
              "16   81            f   ?           other           P  \n",
              "17  121            f   ?             SVI           P  \n",
              "18  104            f   ?             SVI           P  \n",
              "19  130            f   ?            SVHC           P  "
            ],
            "text/html": [
              "\n",
              "  <div id=\"df-73a73a0f-d447-4fe8-a8a6-0d8b0f5e33ef\">\n",
              "    <div class=\"colab-df-container\">\n",
              "      <div>\n",
              "<style scoped>\n",
              "    .dataframe tbody tr th:only-of-type {\n",
              "        vertical-align: middle;\n",
              "    }\n",
              "\n",
              "    .dataframe tbody tr th {\n",
              "        vertical-align: top;\n",
              "    }\n",
              "\n",
              "    .dataframe thead th {\n",
              "        text-align: right;\n",
              "    }\n",
              "</style>\n",
              "<table border=\"1\" class=\"dataframe\">\n",
              "  <thead>\n",
              "    <tr style=\"text-align: right;\">\n",
              "      <th></th>\n",
              "      <th>age</th>\n",
              "      <th>sex</th>\n",
              "      <th>on thyroxine</th>\n",
              "      <th>query on thyroxine</th>\n",
              "      <th>on antithyroid medication</th>\n",
              "      <th>sick</th>\n",
              "      <th>pregnant</th>\n",
              "      <th>thyroid surgery</th>\n",
              "      <th>I131 treatment</th>\n",
              "      <th>query hypothyroid</th>\n",
              "      <th>query hyperthyroid</th>\n",
              "      <th>lithium</th>\n",
              "      <th>goitre</th>\n",
              "      <th>tumor</th>\n",
              "      <th>hypopituitary</th>\n",
              "      <th>psych</th>\n",
              "      <th>TSH measured</th>\n",
              "      <th>TSH</th>\n",
              "      <th>T3 measured</th>\n",
              "      <th>T3</th>\n",
              "      <th>TT4 measured</th>\n",
              "      <th>TT4</th>\n",
              "      <th>T4U measured</th>\n",
              "      <th>T4U</th>\n",
              "      <th>FTI measured</th>\n",
              "      <th>FTI</th>\n",
              "      <th>TBG measured</th>\n",
              "      <th>TBG</th>\n",
              "      <th>referral source</th>\n",
              "      <th>binaryClass</th>\n",
              "    </tr>\n",
              "  </thead>\n",
              "  <tbody>\n",
              "    <tr>\n",
              "      <th>0</th>\n",
              "      <td>41</td>\n",
              "      <td>F</td>\n",
              "      <td>f</td>\n",
              "      <td>f</td>\n",
              "      <td>f</td>\n",
              "      <td>f</td>\n",
              "      <td>f</td>\n",
              "      <td>f</td>\n",
              "      <td>f</td>\n",
              "      <td>f</td>\n",
              "      <td>f</td>\n",
              "      <td>f</td>\n",
              "      <td>f</td>\n",
              "      <td>f</td>\n",
              "      <td>f</td>\n",
              "      <td>f</td>\n",
              "      <td>t</td>\n",
              "      <td>1.3</td>\n",
              "      <td>t</td>\n",
              "      <td>2.5</td>\n",
              "      <td>t</td>\n",
              "      <td>125</td>\n",
              "      <td>t</td>\n",
              "      <td>1.14</td>\n",
              "      <td>t</td>\n",
              "      <td>109</td>\n",
              "      <td>f</td>\n",
              "      <td>?</td>\n",
              "      <td>SVHC</td>\n",
              "      <td>P</td>\n",
              "    </tr>\n",
              "    <tr>\n",
              "      <th>1</th>\n",
              "      <td>23</td>\n",
              "      <td>F</td>\n",
              "      <td>f</td>\n",
              "      <td>f</td>\n",
              "      <td>f</td>\n",
              "      <td>f</td>\n",
              "      <td>f</td>\n",
              "      <td>f</td>\n",
              "      <td>f</td>\n",
              "      <td>f</td>\n",
              "      <td>f</td>\n",
              "      <td>f</td>\n",
              "      <td>f</td>\n",
              "      <td>f</td>\n",
              "      <td>f</td>\n",
              "      <td>f</td>\n",
              "      <td>t</td>\n",
              "      <td>4.1</td>\n",
              "      <td>t</td>\n",
              "      <td>2</td>\n",
              "      <td>t</td>\n",
              "      <td>102</td>\n",
              "      <td>f</td>\n",
              "      <td>?</td>\n",
              "      <td>f</td>\n",
              "      <td>?</td>\n",
              "      <td>f</td>\n",
              "      <td>?</td>\n",
              "      <td>other</td>\n",
              "      <td>P</td>\n",
              "    </tr>\n",
              "    <tr>\n",
              "      <th>2</th>\n",
              "      <td>46</td>\n",
              "      <td>M</td>\n",
              "      <td>f</td>\n",
              "      <td>f</td>\n",
              "      <td>f</td>\n",
              "      <td>f</td>\n",
              "      <td>f</td>\n",
              "      <td>f</td>\n",
              "      <td>f</td>\n",
              "      <td>f</td>\n",
              "      <td>f</td>\n",
              "      <td>f</td>\n",
              "      <td>f</td>\n",
              "      <td>f</td>\n",
              "      <td>f</td>\n",
              "      <td>f</td>\n",
              "      <td>t</td>\n",
              "      <td>0.98</td>\n",
              "      <td>f</td>\n",
              "      <td>?</td>\n",
              "      <td>t</td>\n",
              "      <td>109</td>\n",
              "      <td>t</td>\n",
              "      <td>0.91</td>\n",
              "      <td>t</td>\n",
              "      <td>120</td>\n",
              "      <td>f</td>\n",
              "      <td>?</td>\n",
              "      <td>other</td>\n",
              "      <td>P</td>\n",
              "    </tr>\n",
              "    <tr>\n",
              "      <th>3</th>\n",
              "      <td>70</td>\n",
              "      <td>F</td>\n",
              "      <td>t</td>\n",
              "      <td>f</td>\n",
              "      <td>f</td>\n",
              "      <td>f</td>\n",
              "      <td>f</td>\n",
              "      <td>f</td>\n",
              "      <td>f</td>\n",
              "      <td>f</td>\n",
              "      <td>f</td>\n",
              "      <td>f</td>\n",
              "      <td>f</td>\n",
              "      <td>f</td>\n",
              "      <td>f</td>\n",
              "      <td>f</td>\n",
              "      <td>t</td>\n",
              "      <td>0.16</td>\n",
              "      <td>t</td>\n",
              "      <td>1.9</td>\n",
              "      <td>t</td>\n",
              "      <td>175</td>\n",
              "      <td>f</td>\n",
              "      <td>?</td>\n",
              "      <td>f</td>\n",
              "      <td>?</td>\n",
              "      <td>f</td>\n",
              "      <td>?</td>\n",
              "      <td>other</td>\n",
              "      <td>P</td>\n",
              "    </tr>\n",
              "    <tr>\n",
              "      <th>4</th>\n",
              "      <td>70</td>\n",
              "      <td>F</td>\n",
              "      <td>f</td>\n",
              "      <td>f</td>\n",
              "      <td>f</td>\n",
              "      <td>f</td>\n",
              "      <td>f</td>\n",
              "      <td>f</td>\n",
              "      <td>f</td>\n",
              "      <td>f</td>\n",
              "      <td>f</td>\n",
              "      <td>f</td>\n",
              "      <td>f</td>\n",
              "      <td>f</td>\n",
              "      <td>f</td>\n",
              "      <td>f</td>\n",
              "      <td>t</td>\n",
              "      <td>0.72</td>\n",
              "      <td>t</td>\n",
              "      <td>1.2</td>\n",
              "      <td>t</td>\n",
              "      <td>61</td>\n",
              "      <td>t</td>\n",
              "      <td>0.87</td>\n",
              "      <td>t</td>\n",
              "      <td>70</td>\n",
              "      <td>f</td>\n",
              "      <td>?</td>\n",
              "      <td>SVI</td>\n",
              "      <td>P</td>\n",
              "    </tr>\n",
              "    <tr>\n",
              "      <th>5</th>\n",
              "      <td>18</td>\n",
              "      <td>F</td>\n",
              "      <td>t</td>\n",
              "      <td>f</td>\n",
              "      <td>f</td>\n",
              "      <td>f</td>\n",
              "      <td>f</td>\n",
              "      <td>f</td>\n",
              "      <td>f</td>\n",
              "      <td>f</td>\n",
              "      <td>f</td>\n",
              "      <td>f</td>\n",
              "      <td>f</td>\n",
              "      <td>f</td>\n",
              "      <td>f</td>\n",
              "      <td>f</td>\n",
              "      <td>t</td>\n",
              "      <td>0.03</td>\n",
              "      <td>f</td>\n",
              "      <td>?</td>\n",
              "      <td>t</td>\n",
              "      <td>183</td>\n",
              "      <td>t</td>\n",
              "      <td>1.3</td>\n",
              "      <td>t</td>\n",
              "      <td>141</td>\n",
              "      <td>f</td>\n",
              "      <td>?</td>\n",
              "      <td>other</td>\n",
              "      <td>P</td>\n",
              "    </tr>\n",
              "    <tr>\n",
              "      <th>6</th>\n",
              "      <td>59</td>\n",
              "      <td>F</td>\n",
              "      <td>f</td>\n",
              "      <td>f</td>\n",
              "      <td>f</td>\n",
              "      <td>f</td>\n",
              "      <td>f</td>\n",
              "      <td>f</td>\n",
              "      <td>f</td>\n",
              "      <td>f</td>\n",
              "      <td>f</td>\n",
              "      <td>f</td>\n",
              "      <td>f</td>\n",
              "      <td>f</td>\n",
              "      <td>f</td>\n",
              "      <td>f</td>\n",
              "      <td>f</td>\n",
              "      <td>?</td>\n",
              "      <td>f</td>\n",
              "      <td>?</td>\n",
              "      <td>t</td>\n",
              "      <td>72</td>\n",
              "      <td>t</td>\n",
              "      <td>0.92</td>\n",
              "      <td>t</td>\n",
              "      <td>78</td>\n",
              "      <td>f</td>\n",
              "      <td>?</td>\n",
              "      <td>other</td>\n",
              "      <td>P</td>\n",
              "    </tr>\n",
              "    <tr>\n",
              "      <th>7</th>\n",
              "      <td>80</td>\n",
              "      <td>F</td>\n",
              "      <td>f</td>\n",
              "      <td>f</td>\n",
              "      <td>f</td>\n",
              "      <td>f</td>\n",
              "      <td>f</td>\n",
              "      <td>f</td>\n",
              "      <td>f</td>\n",
              "      <td>f</td>\n",
              "      <td>f</td>\n",
              "      <td>f</td>\n",
              "      <td>f</td>\n",
              "      <td>f</td>\n",
              "      <td>f</td>\n",
              "      <td>f</td>\n",
              "      <td>t</td>\n",
              "      <td>2.2</td>\n",
              "      <td>t</td>\n",
              "      <td>0.6</td>\n",
              "      <td>t</td>\n",
              "      <td>80</td>\n",
              "      <td>t</td>\n",
              "      <td>0.7</td>\n",
              "      <td>t</td>\n",
              "      <td>115</td>\n",
              "      <td>f</td>\n",
              "      <td>?</td>\n",
              "      <td>SVI</td>\n",
              "      <td>P</td>\n",
              "    </tr>\n",
              "    <tr>\n",
              "      <th>8</th>\n",
              "      <td>66</td>\n",
              "      <td>F</td>\n",
              "      <td>f</td>\n",
              "      <td>f</td>\n",
              "      <td>f</td>\n",
              "      <td>f</td>\n",
              "      <td>f</td>\n",
              "      <td>f</td>\n",
              "      <td>f</td>\n",
              "      <td>f</td>\n",
              "      <td>f</td>\n",
              "      <td>f</td>\n",
              "      <td>f</td>\n",
              "      <td>t</td>\n",
              "      <td>f</td>\n",
              "      <td>f</td>\n",
              "      <td>t</td>\n",
              "      <td>0.6</td>\n",
              "      <td>t</td>\n",
              "      <td>2.2</td>\n",
              "      <td>t</td>\n",
              "      <td>123</td>\n",
              "      <td>t</td>\n",
              "      <td>0.93</td>\n",
              "      <td>t</td>\n",
              "      <td>132</td>\n",
              "      <td>f</td>\n",
              "      <td>?</td>\n",
              "      <td>SVI</td>\n",
              "      <td>P</td>\n",
              "    </tr>\n",
              "    <tr>\n",
              "      <th>9</th>\n",
              "      <td>68</td>\n",
              "      <td>M</td>\n",
              "      <td>f</td>\n",
              "      <td>f</td>\n",
              "      <td>f</td>\n",
              "      <td>f</td>\n",
              "      <td>f</td>\n",
              "      <td>f</td>\n",
              "      <td>f</td>\n",
              "      <td>f</td>\n",
              "      <td>f</td>\n",
              "      <td>f</td>\n",
              "      <td>f</td>\n",
              "      <td>f</td>\n",
              "      <td>f</td>\n",
              "      <td>f</td>\n",
              "      <td>t</td>\n",
              "      <td>2.4</td>\n",
              "      <td>t</td>\n",
              "      <td>1.6</td>\n",
              "      <td>t</td>\n",
              "      <td>83</td>\n",
              "      <td>t</td>\n",
              "      <td>0.89</td>\n",
              "      <td>t</td>\n",
              "      <td>93</td>\n",
              "      <td>f</td>\n",
              "      <td>?</td>\n",
              "      <td>SVI</td>\n",
              "      <td>P</td>\n",
              "    </tr>\n",
              "    <tr>\n",
              "      <th>10</th>\n",
              "      <td>84</td>\n",
              "      <td>F</td>\n",
              "      <td>f</td>\n",
              "      <td>f</td>\n",
              "      <td>f</td>\n",
              "      <td>f</td>\n",
              "      <td>f</td>\n",
              "      <td>f</td>\n",
              "      <td>f</td>\n",
              "      <td>f</td>\n",
              "      <td>f</td>\n",
              "      <td>f</td>\n",
              "      <td>f</td>\n",
              "      <td>t</td>\n",
              "      <td>f</td>\n",
              "      <td>f</td>\n",
              "      <td>t</td>\n",
              "      <td>1.1</td>\n",
              "      <td>t</td>\n",
              "      <td>2.2</td>\n",
              "      <td>t</td>\n",
              "      <td>115</td>\n",
              "      <td>t</td>\n",
              "      <td>0.95</td>\n",
              "      <td>t</td>\n",
              "      <td>121</td>\n",
              "      <td>f</td>\n",
              "      <td>?</td>\n",
              "      <td>SVI</td>\n",
              "      <td>P</td>\n",
              "    </tr>\n",
              "    <tr>\n",
              "      <th>11</th>\n",
              "      <td>67</td>\n",
              "      <td>F</td>\n",
              "      <td>t</td>\n",
              "      <td>f</td>\n",
              "      <td>f</td>\n",
              "      <td>f</td>\n",
              "      <td>f</td>\n",
              "      <td>f</td>\n",
              "      <td>f</td>\n",
              "      <td>f</td>\n",
              "      <td>f</td>\n",
              "      <td>f</td>\n",
              "      <td>f</td>\n",
              "      <td>f</td>\n",
              "      <td>f</td>\n",
              "      <td>f</td>\n",
              "      <td>t</td>\n",
              "      <td>0.03</td>\n",
              "      <td>f</td>\n",
              "      <td>?</td>\n",
              "      <td>t</td>\n",
              "      <td>152</td>\n",
              "      <td>t</td>\n",
              "      <td>0.99</td>\n",
              "      <td>t</td>\n",
              "      <td>153</td>\n",
              "      <td>f</td>\n",
              "      <td>?</td>\n",
              "      <td>other</td>\n",
              "      <td>P</td>\n",
              "    </tr>\n",
              "    <tr>\n",
              "      <th>12</th>\n",
              "      <td>71</td>\n",
              "      <td>F</td>\n",
              "      <td>f</td>\n",
              "      <td>f</td>\n",
              "      <td>f</td>\n",
              "      <td>t</td>\n",
              "      <td>f</td>\n",
              "      <td>f</td>\n",
              "      <td>f</td>\n",
              "      <td>f</td>\n",
              "      <td>t</td>\n",
              "      <td>f</td>\n",
              "      <td>f</td>\n",
              "      <td>f</td>\n",
              "      <td>f</td>\n",
              "      <td>f</td>\n",
              "      <td>t</td>\n",
              "      <td>0.03</td>\n",
              "      <td>t</td>\n",
              "      <td>3.8</td>\n",
              "      <td>t</td>\n",
              "      <td>171</td>\n",
              "      <td>t</td>\n",
              "      <td>1.13</td>\n",
              "      <td>t</td>\n",
              "      <td>151</td>\n",
              "      <td>f</td>\n",
              "      <td>?</td>\n",
              "      <td>other</td>\n",
              "      <td>P</td>\n",
              "    </tr>\n",
              "    <tr>\n",
              "      <th>13</th>\n",
              "      <td>59</td>\n",
              "      <td>F</td>\n",
              "      <td>f</td>\n",
              "      <td>f</td>\n",
              "      <td>f</td>\n",
              "      <td>f</td>\n",
              "      <td>f</td>\n",
              "      <td>f</td>\n",
              "      <td>f</td>\n",
              "      <td>f</td>\n",
              "      <td>f</td>\n",
              "      <td>f</td>\n",
              "      <td>f</td>\n",
              "      <td>f</td>\n",
              "      <td>f</td>\n",
              "      <td>f</td>\n",
              "      <td>t</td>\n",
              "      <td>2.8</td>\n",
              "      <td>t</td>\n",
              "      <td>1.7</td>\n",
              "      <td>t</td>\n",
              "      <td>97</td>\n",
              "      <td>t</td>\n",
              "      <td>0.91</td>\n",
              "      <td>t</td>\n",
              "      <td>107</td>\n",
              "      <td>f</td>\n",
              "      <td>?</td>\n",
              "      <td>SVI</td>\n",
              "      <td>P</td>\n",
              "    </tr>\n",
              "    <tr>\n",
              "      <th>14</th>\n",
              "      <td>28</td>\n",
              "      <td>M</td>\n",
              "      <td>f</td>\n",
              "      <td>f</td>\n",
              "      <td>f</td>\n",
              "      <td>f</td>\n",
              "      <td>f</td>\n",
              "      <td>f</td>\n",
              "      <td>f</td>\n",
              "      <td>f</td>\n",
              "      <td>f</td>\n",
              "      <td>f</td>\n",
              "      <td>f</td>\n",
              "      <td>f</td>\n",
              "      <td>f</td>\n",
              "      <td>f</td>\n",
              "      <td>t</td>\n",
              "      <td>3.3</td>\n",
              "      <td>t</td>\n",
              "      <td>1.8</td>\n",
              "      <td>t</td>\n",
              "      <td>109</td>\n",
              "      <td>t</td>\n",
              "      <td>0.91</td>\n",
              "      <td>t</td>\n",
              "      <td>119</td>\n",
              "      <td>f</td>\n",
              "      <td>?</td>\n",
              "      <td>SVHC</td>\n",
              "      <td>P</td>\n",
              "    </tr>\n",
              "    <tr>\n",
              "      <th>15</th>\n",
              "      <td>65</td>\n",
              "      <td>F</td>\n",
              "      <td>f</td>\n",
              "      <td>f</td>\n",
              "      <td>f</td>\n",
              "      <td>f</td>\n",
              "      <td>f</td>\n",
              "      <td>f</td>\n",
              "      <td>f</td>\n",
              "      <td>t</td>\n",
              "      <td>f</td>\n",
              "      <td>f</td>\n",
              "      <td>f</td>\n",
              "      <td>f</td>\n",
              "      <td>f</td>\n",
              "      <td>f</td>\n",
              "      <td>t</td>\n",
              "      <td>12</td>\n",
              "      <td>f</td>\n",
              "      <td>?</td>\n",
              "      <td>t</td>\n",
              "      <td>99</td>\n",
              "      <td>t</td>\n",
              "      <td>1.14</td>\n",
              "      <td>t</td>\n",
              "      <td>87</td>\n",
              "      <td>f</td>\n",
              "      <td>?</td>\n",
              "      <td>other</td>\n",
              "      <td>N</td>\n",
              "    </tr>\n",
              "    <tr>\n",
              "      <th>16</th>\n",
              "      <td>42</td>\n",
              "      <td>?</td>\n",
              "      <td>f</td>\n",
              "      <td>f</td>\n",
              "      <td>f</td>\n",
              "      <td>f</td>\n",
              "      <td>f</td>\n",
              "      <td>f</td>\n",
              "      <td>f</td>\n",
              "      <td>f</td>\n",
              "      <td>f</td>\n",
              "      <td>f</td>\n",
              "      <td>f</td>\n",
              "      <td>f</td>\n",
              "      <td>f</td>\n",
              "      <td>f</td>\n",
              "      <td>t</td>\n",
              "      <td>1.2</td>\n",
              "      <td>t</td>\n",
              "      <td>1.8</td>\n",
              "      <td>t</td>\n",
              "      <td>70</td>\n",
              "      <td>t</td>\n",
              "      <td>0.86</td>\n",
              "      <td>t</td>\n",
              "      <td>81</td>\n",
              "      <td>f</td>\n",
              "      <td>?</td>\n",
              "      <td>other</td>\n",
              "      <td>P</td>\n",
              "    </tr>\n",
              "    <tr>\n",
              "      <th>17</th>\n",
              "      <td>63</td>\n",
              "      <td>F</td>\n",
              "      <td>f</td>\n",
              "      <td>f</td>\n",
              "      <td>f</td>\n",
              "      <td>f</td>\n",
              "      <td>f</td>\n",
              "      <td>f</td>\n",
              "      <td>f</td>\n",
              "      <td>f</td>\n",
              "      <td>f</td>\n",
              "      <td>f</td>\n",
              "      <td>f</td>\n",
              "      <td>f</td>\n",
              "      <td>f</td>\n",
              "      <td>f</td>\n",
              "      <td>t</td>\n",
              "      <td>1.5</td>\n",
              "      <td>t</td>\n",
              "      <td>1.2</td>\n",
              "      <td>t</td>\n",
              "      <td>117</td>\n",
              "      <td>t</td>\n",
              "      <td>0.96</td>\n",
              "      <td>t</td>\n",
              "      <td>121</td>\n",
              "      <td>f</td>\n",
              "      <td>?</td>\n",
              "      <td>SVI</td>\n",
              "      <td>P</td>\n",
              "    </tr>\n",
              "    <tr>\n",
              "      <th>18</th>\n",
              "      <td>80</td>\n",
              "      <td>F</td>\n",
              "      <td>f</td>\n",
              "      <td>f</td>\n",
              "      <td>f</td>\n",
              "      <td>f</td>\n",
              "      <td>f</td>\n",
              "      <td>f</td>\n",
              "      <td>f</td>\n",
              "      <td>f</td>\n",
              "      <td>f</td>\n",
              "      <td>f</td>\n",
              "      <td>f</td>\n",
              "      <td>f</td>\n",
              "      <td>f</td>\n",
              "      <td>t</td>\n",
              "      <td>t</td>\n",
              "      <td>6</td>\n",
              "      <td>t</td>\n",
              "      <td>1.6</td>\n",
              "      <td>t</td>\n",
              "      <td>99</td>\n",
              "      <td>t</td>\n",
              "      <td>0.95</td>\n",
              "      <td>t</td>\n",
              "      <td>104</td>\n",
              "      <td>f</td>\n",
              "      <td>?</td>\n",
              "      <td>SVI</td>\n",
              "      <td>P</td>\n",
              "    </tr>\n",
              "    <tr>\n",
              "      <th>19</th>\n",
              "      <td>28</td>\n",
              "      <td>M</td>\n",
              "      <td>f</td>\n",
              "      <td>f</td>\n",
              "      <td>f</td>\n",
              "      <td>f</td>\n",
              "      <td>f</td>\n",
              "      <td>f</td>\n",
              "      <td>f</td>\n",
              "      <td>f</td>\n",
              "      <td>f</td>\n",
              "      <td>f</td>\n",
              "      <td>f</td>\n",
              "      <td>f</td>\n",
              "      <td>f</td>\n",
              "      <td>t</td>\n",
              "      <td>t</td>\n",
              "      <td>2.1</td>\n",
              "      <td>t</td>\n",
              "      <td>2.6</td>\n",
              "      <td>t</td>\n",
              "      <td>121</td>\n",
              "      <td>t</td>\n",
              "      <td>0.94</td>\n",
              "      <td>t</td>\n",
              "      <td>130</td>\n",
              "      <td>f</td>\n",
              "      <td>?</td>\n",
              "      <td>SVHC</td>\n",
              "      <td>P</td>\n",
              "    </tr>\n",
              "  </tbody>\n",
              "</table>\n",
              "</div>\n",
              "      <button class=\"colab-df-convert\" onclick=\"convertToInteractive('df-73a73a0f-d447-4fe8-a8a6-0d8b0f5e33ef')\"\n",
              "              title=\"Convert this dataframe to an interactive table.\"\n",
              "              style=\"display:none;\">\n",
              "        \n",
              "  <svg xmlns=\"http://www.w3.org/2000/svg\" height=\"24px\"viewBox=\"0 0 24 24\"\n",
              "       width=\"24px\">\n",
              "    <path d=\"M0 0h24v24H0V0z\" fill=\"none\"/>\n",
              "    <path d=\"M18.56 5.44l.94 2.06.94-2.06 2.06-.94-2.06-.94-.94-2.06-.94 2.06-2.06.94zm-11 1L8.5 8.5l.94-2.06 2.06-.94-2.06-.94L8.5 2.5l-.94 2.06-2.06.94zm10 10l.94 2.06.94-2.06 2.06-.94-2.06-.94-.94-2.06-.94 2.06-2.06.94z\"/><path d=\"M17.41 7.96l-1.37-1.37c-.4-.4-.92-.59-1.43-.59-.52 0-1.04.2-1.43.59L10.3 9.45l-7.72 7.72c-.78.78-.78 2.05 0 2.83L4 21.41c.39.39.9.59 1.41.59.51 0 1.02-.2 1.41-.59l7.78-7.78 2.81-2.81c.8-.78.8-2.07 0-2.86zM5.41 20L4 18.59l7.72-7.72 1.47 1.35L5.41 20z\"/>\n",
              "  </svg>\n",
              "      </button>\n",
              "      \n",
              "  <style>\n",
              "    .colab-df-container {\n",
              "      display:flex;\n",
              "      flex-wrap:wrap;\n",
              "      gap: 12px;\n",
              "    }\n",
              "\n",
              "    .colab-df-convert {\n",
              "      background-color: #E8F0FE;\n",
              "      border: none;\n",
              "      border-radius: 50%;\n",
              "      cursor: pointer;\n",
              "      display: none;\n",
              "      fill: #1967D2;\n",
              "      height: 32px;\n",
              "      padding: 0 0 0 0;\n",
              "      width: 32px;\n",
              "    }\n",
              "\n",
              "    .colab-df-convert:hover {\n",
              "      background-color: #E2EBFA;\n",
              "      box-shadow: 0px 1px 2px rgba(60, 64, 67, 0.3), 0px 1px 3px 1px rgba(60, 64, 67, 0.15);\n",
              "      fill: #174EA6;\n",
              "    }\n",
              "\n",
              "    [theme=dark] .colab-df-convert {\n",
              "      background-color: #3B4455;\n",
              "      fill: #D2E3FC;\n",
              "    }\n",
              "\n",
              "    [theme=dark] .colab-df-convert:hover {\n",
              "      background-color: #434B5C;\n",
              "      box-shadow: 0px 1px 3px 1px rgba(0, 0, 0, 0.15);\n",
              "      filter: drop-shadow(0px 1px 2px rgba(0, 0, 0, 0.3));\n",
              "      fill: #FFFFFF;\n",
              "    }\n",
              "  </style>\n",
              "\n",
              "      <script>\n",
              "        const buttonEl =\n",
              "          document.querySelector('#df-73a73a0f-d447-4fe8-a8a6-0d8b0f5e33ef button.colab-df-convert');\n",
              "        buttonEl.style.display =\n",
              "          google.colab.kernel.accessAllowed ? 'block' : 'none';\n",
              "\n",
              "        async function convertToInteractive(key) {\n",
              "          const element = document.querySelector('#df-73a73a0f-d447-4fe8-a8a6-0d8b0f5e33ef');\n",
              "          const dataTable =\n",
              "            await google.colab.kernel.invokeFunction('convertToInteractive',\n",
              "                                                     [key], {});\n",
              "          if (!dataTable) return;\n",
              "\n",
              "          const docLinkHtml = 'Like what you see? Visit the ' +\n",
              "            '<a target=\"_blank\" href=https://colab.research.google.com/notebooks/data_table.ipynb>data table notebook</a>'\n",
              "            + ' to learn more about interactive tables.';\n",
              "          element.innerHTML = '';\n",
              "          dataTable['output_type'] = 'display_data';\n",
              "          await google.colab.output.renderOutput(dataTable, element);\n",
              "          const docLink = document.createElement('div');\n",
              "          docLink.innerHTML = docLinkHtml;\n",
              "          element.appendChild(docLink);\n",
              "        }\n",
              "      </script>\n",
              "    </div>\n",
              "  </div>\n",
              "  "
            ]
          },
          "metadata": {},
          "execution_count": 4
        }
      ]
    },
    {
      "cell_type": "code",
      "source": [
        "Thyroid_data.shape # to get the shape "
      ],
      "metadata": {
        "colab": {
          "base_uri": "https://localhost:8080/"
        },
        "id": "448rlL2ioLEV",
        "outputId": "b12d4a43-9bbe-4307-9712-91056a8f594c"
      },
      "execution_count": 5,
      "outputs": [
        {
          "output_type": "execute_result",
          "data": {
            "text/plain": [
              "(3163, 30)"
            ]
          },
          "metadata": {},
          "execution_count": 5
        }
      ]
    },
    {
      "cell_type": "markdown",
      "source": [
        "# **Preprocessing**"
      ],
      "metadata": {
        "id": "CxVk_Padvo35"
      }
    },
    {
      "cell_type": "code",
      "source": [
        "# value counts for the target classes \n",
        "Thyroid_data['binaryClass'].value_counts()"
      ],
      "metadata": {
        "colab": {
          "base_uri": "https://localhost:8080/"
        },
        "id": "dkoZ9jsRoLHi",
        "outputId": "b4339067-6991-4de3-ef4d-9edde96a40e1"
      },
      "execution_count": 6,
      "outputs": [
        {
          "output_type": "execute_result",
          "data": {
            "text/plain": [
              "P    2919\n",
              "N     244\n",
              "Name: binaryClass, dtype: int64"
            ]
          },
          "metadata": {},
          "execution_count": 6
        }
      ]
    },
    {
      "cell_type": "code",
      "source": [
        "#count plot graph of target variable of thyroid dataset\n",
        "sns.countplot(x='binaryClass' ,data=Thyroid_data ) \n",
        "plt.xlabel ( 'Class')\n",
        "plt.ylabel ( 'Number')\n",
        "plt.title ( 'Count Plot of Thyroid disease')  \n",
        "plt.show() "
      ],
      "metadata": {
        "colab": {
          "base_uri": "https://localhost:8080/",
          "height": 295
        },
        "id": "qmp5M9ekvt_l",
        "outputId": "c32d220d-f8a1-43df-ec3f-ac221b933354"
      },
      "execution_count": 7,
      "outputs": [
        {
          "output_type": "display_data",
          "data": {
            "text/plain": [
              "<Figure size 432x288 with 1 Axes>"
            ],
            "image/png": "[encoded data removed]"
          },
          "metadata": {
            "needs_background": "light"
          }
        }
      ]
    },
    {
      "cell_type": "code",
      "source": [
        "Thyroid_data.info # to get the information about the database"
      ],
      "metadata": {
        "id": "vqJ-cFIuoLKI",
        "colab": {
          "base_uri": "https://localhost:8080/"
        },
        "outputId": "55bd2dc8-bb75-4ea3-f704-407e173f4dd8"
      },
      "execution_count": 8,
      "outputs": [
        {
          "output_type": "execute_result",
          "data": {
            "text/plain": [
              "<bound method DataFrame.info of      age sex on thyroxine query on thyroxine on antithyroid medication sick  \\\n",
              "0     41   F            f                  f                         f    f   \n",
              "1     23   F            f                  f                         f    f   \n",
              "2     46   M            f                  f                         f    f   \n",
              "3     70   F            t                  f                         f    f   \n",
              "4     70   F            f                  f                         f    f   \n",
              "...   ..  ..          ...                ...                       ...  ...   \n",
              "3158  25   M            f                  f                         f    f   \n",
              "3159  71   F            t                  f                         f    f   \n",
              "3160  37   F            f                  f                         f    f   \n",
              "3161  56   F            f                  f                         f    f   \n",
              "3162  76   F            f                  f                         f    t   \n",
              "\n",
              "     pregnant thyroid surgery I131 treatment query hypothyroid  \\\n",
              "0           f               f              f                 f   \n",
              "1           f               f              f                 f   \n",
              "2           f               f              f                 f   \n",
              "3           f               f              f                 f   \n",
              "4           f               f              f                 f   \n",
              "...       ...             ...            ...               ...   \n",
              "3158        f               f              f                 f   \n",
              "3159        f               f              f                 f   \n",
              "3160        f               f              f                 f   \n",
              "3161        f               f              f                 f   \n",
              "3162        f               t              f                 f   \n",
              "\n",
              "     query hyperthyroid lithium goitre tumor hypopituitary psych TSH measured  \\\n",
              "0                     f       f      f     f             f     f            t   \n",
              "1                     f       f      f     f             f     f            t   \n",
              "2                     f       f      f     f             f     f            t   \n",
              "3                     f       f      f     f             f     f            t   \n",
              "4                     f       f      f     f             f     f            t   \n",
              "...                 ...     ...    ...   ...           ...   ...          ...   \n",
              "3158                  f       f      f     f             f     t            t   \n",
              "3159                  f       f      f     f             f     f            t   \n",
              "3160                  f       f      f     f             f     f            t   \n",
              "3161                  f       f      f     f             f     f            t   \n",
              "3162                  f       f      f     f             f     f            t   \n",
              "\n",
              "       TSH T3 measured   T3 TT4 measured  TT4 T4U measured   T4U FTI measured  \\\n",
              "0      1.3           t  2.5            t  125            t  1.14            t   \n",
              "1      4.1           t    2            t  102            f     ?            f   \n",
              "2     0.98           f    ?            t  109            t  0.91            t   \n",
              "3     0.16           t  1.9            t  175            f     ?            f   \n",
              "4     0.72           t  1.2            t   61            t  0.87            t   \n",
              "...    ...         ...  ...          ...  ...          ...   ...          ...   \n",
              "3158   1.6           t  2.1            t   89            t  0.86            t   \n",
              "3159   2.7           t  1.2            t  107            t   1.1            t   \n",
              "3160   5.1           t  2.5            t   84            t  1.05            t   \n",
              "3161   7.9           t  1.2            t   73            t   0.8            t   \n",
              "3162   1.8           t  1.2            t   65            t  0.76            t   \n",
              "\n",
              "      FTI TBG measured TBG referral source binaryClass  \n",
              "0     109            f   ?            SVHC           P  \n",
              "1       ?            f   ?           other           P  \n",
              "2     120            f   ?           other           P  \n",
              "3       ?            f   ?           other           P  \n",
              "4      70            f   ?             SVI           P  \n",
              "...   ...          ...  ..             ...         ...  \n",
              "3158  103            f   ?            SVHC           P  \n",
              "3159   97            f   ?           other           P  \n",
              "3160   80            f   ?            SVHC           P  \n",
              "3161   91            f   ?             SVI           N  \n",
              "3162   86            f   ?           other           P  \n",
              "\n",
              "[3163 rows x 30 columns]>"
            ]
          },
          "metadata": {},
          "execution_count": 8
        }
      ]
    },
    {
      "cell_type": "code",
      "source": [
        "Thyroid_data = Thyroid_data.replace(\"?\", np.nan) # to replace unusable symbol"
      ],
      "metadata": {
        "id": "PLVWhdjSoLM_"
      },
      "execution_count": 9,
      "outputs": []
    },
    {
      "cell_type": "code",
      "source": [
        "Thyroid_data.isna().sum() # to check the naa data attributes"
      ],
      "metadata": {
        "id": "6ImU691coLPk",
        "colab": {
          "base_uri": "https://localhost:8080/"
        },
        "outputId": "eb92fa8c-1885-4555-e23e-2250e00acd56"
      },
      "execution_count": 10,
      "outputs": [
        {
          "output_type": "execute_result",
          "data": {
            "text/plain": [
              "age                             1\n",
              "sex                           120\n",
              "on thyroxine                    0\n",
              "query on thyroxine              0\n",
              "on antithyroid medication       0\n",
              "sick                            0\n",
              "pregnant                        0\n",
              "thyroid surgery                 0\n",
              "I131 treatment                  0\n",
              "query hypothyroid               0\n",
              "query hyperthyroid              0\n",
              "lithium                         0\n",
              "goitre                          0\n",
              "tumor                           0\n",
              "hypopituitary                   0\n",
              "psych                           0\n",
              "TSH measured                    0\n",
              "TSH                           318\n",
              "T3 measured                     0\n",
              "T3                            671\n",
              "TT4 measured                    0\n",
              "TT4                           201\n",
              "T4U measured                    0\n",
              "T4U                           332\n",
              "FTI measured                    0\n",
              "FTI                           330\n",
              "TBG measured                    0\n",
              "TBG                          3163\n",
              "referral source                 0\n",
              "binaryClass                     0\n",
              "dtype: int64"
            ]
          },
          "metadata": {},
          "execution_count": 10
        }
      ]
    },
    {
      "cell_type": "code",
      "source": [
        "Thyroid_data = Thyroid_data.drop(['TBG'], axis=1) # to drop the columns"
      ],
      "metadata": {
        "id": "dqysxwmmoLST"
      },
      "execution_count": 11,
      "outputs": []
    },
    {
      "cell_type": "code",
      "source": [
        "Thyroid_data.dtypes # to know about the data types "
      ],
      "metadata": {
        "id": "C3dZSSvmoLVQ",
        "colab": {
          "base_uri": "https://localhost:8080/"
        },
        "outputId": "b85653f9-7507-4d83-dab4-d76f65fa1c49"
      },
      "execution_count": 12,
      "outputs": [
        {
          "output_type": "execute_result",
          "data": {
            "text/plain": [
              "age                          object\n",
              "sex                          object\n",
              "on thyroxine                 object\n",
              "query on thyroxine           object\n",
              "on antithyroid medication    object\n",
              "sick                         object\n",
              "pregnant                     object\n",
              "thyroid surgery              object\n",
              "I131 treatment               object\n",
              "query hypothyroid            object\n",
              "query hyperthyroid           object\n",
              "lithium                      object\n",
              "goitre                       object\n",
              "tumor                        object\n",
              "hypopituitary                object\n",
              "psych                        object\n",
              "TSH measured                 object\n",
              "TSH                          object\n",
              "T3 measured                  object\n",
              "T3                           object\n",
              "TT4 measured                 object\n",
              "TT4                          object\n",
              "T4U measured                 object\n",
              "T4U                          object\n",
              "FTI measured                 object\n",
              "FTI                          object\n",
              "TBG measured                 object\n",
              "referral source              object\n",
              "binaryClass                  object\n",
              "dtype: object"
            ]
          },
          "metadata": {},
          "execution_count": 12
        }
      ]
    },
    {
      "cell_type": "code",
      "source": [
        "Thyroid_data.columns # to know all the columns name "
      ],
      "metadata": {
        "id": "16kbi9LIoLYP",
        "colab": {
          "base_uri": "https://localhost:8080/"
        },
        "outputId": "4f34c97f-2017-4f82-c1ab-4da3dcbff624"
      },
      "execution_count": 13,
      "outputs": [
        {
          "output_type": "execute_result",
          "data": {
            "text/plain": [
              "Index(['age', 'sex', 'on thyroxine', 'query on thyroxine',\n",
              "       'on antithyroid medication', 'sick', 'pregnant', 'thyroid surgery',\n",
              "       'I131 treatment', 'query hypothyroid', 'query hyperthyroid', 'lithium',\n",
              "       'goitre', 'tumor', 'hypopituitary', 'psych', 'TSH measured', 'TSH',\n",
              "       'T3 measured', 'T3', 'TT4 measured', 'TT4', 'T4U measured', 'T4U',\n",
              "       'FTI measured', 'FTI', 'TBG measured', 'referral source',\n",
              "       'binaryClass'],\n",
              "      dtype='object')"
            ]
          },
          "metadata": {},
          "execution_count": 13
        }
      ]
    },
    {
      "cell_type": "code",
      "source": [
        "# to label_encode the categorical data\n",
        "from sklearn import preprocessing\n",
        "# for converting the categorical data into numerical form\n",
        "label_encoder = preprocessing.LabelEncoder()"
      ],
      "metadata": {
        "id": "K1mG0yZOoLa4"
      },
      "execution_count": 14,
      "outputs": []
    },
    {
      "cell_type": "code",
      "source": [
        "# label_encoding of the column age \n",
        "Thyroid_data['age']= label_encoder.fit_transform(Thyroid_data['age']) \n",
        "# to encode the value of sex\n",
        "Thyroid_data['sex']= label_encoder.fit_transform(Thyroid_data['sex']) \n",
        "# to encode the value of thyroxine\n",
        "Thyroid_data['on thyroxine']= label_encoder.fit_transform(Thyroid_data['on thyroxine']) \n",
        "# label_encoding of the column on thyroxine\n",
        "Thyroid_data['query on thyroxine']= label_encoder.fit_transform(Thyroid_data['query on thyroxine']) \n",
        "# to encode the value of on antithyroid medication\n",
        "Thyroid_data['on antithyroid medication']= label_encoder.fit_transform(Thyroid_data['on antithyroid medication']) \n",
        "# label_encoding of the column pregnant\n",
        "Thyroid_data['pregnant']= label_encoder.fit_transform(Thyroid_data['pregnant']) \n",
        "# to encode the value of on sick\n",
        "Thyroid_data['sick']= label_encoder.fit_transform(Thyroid_data['sick']) \n",
        "# label_encoding of the column query thyroid\n",
        "Thyroid_data['query hyperthyroid'] = label_encoder.fit_transform(Thyroid_data['query hyperthyroid'])\n",
        "# to encode the value of on thyroid surgery\n",
        "Thyroid_data['thyroid surgery']= label_encoder.fit_transform(Thyroid_data['thyroid surgery']) \n",
        "# label_encoding of the column I131 treatment\n",
        "Thyroid_data['I131 treatment']= label_encoder.fit_transform(Thyroid_data['I131 treatment']) \n",
        "# to encode the value of query hypothyroid\n",
        "Thyroid_data['query hypothyroid']= label_encoder.fit_transform(Thyroid_data['query hypothyroid']) \n",
        "# label_encoding of the column lithium\n",
        "Thyroid_data['lithium']= label_encoder.fit_transform(Thyroid_data['lithium']) \n",
        "# to encode the value of goitre \n",
        "Thyroid_data['goitre']= label_encoder.fit_transform(Thyroid_data['goitre']) \n",
        "# label_encoding of the column tumor \n",
        "Thyroid_data['tumor']= label_encoder.fit_transform(Thyroid_data['tumor']) \n",
        "# to encode the value of hypopituitary\n",
        "Thyroid_data['hypopituitary']= label_encoder.fit_transform(Thyroid_data['hypopituitary']) \n",
        "# label_encoding of the column psych\n",
        "Thyroid_data['psych']= label_encoder.fit_transform(Thyroid_data['psych']) \n",
        "# to encode the value of TSH measured \n",
        "Thyroid_data['TSH measured']= label_encoder.fit_transform(Thyroid_data['TSH measured']) \n",
        "# label_encoding of the column TSH 738\n",
        "Thyroid_data['TSH']= label_encoder.fit_transform(Thyroid_data['TSH']) \n",
        "# to encode the value of T3 measured \n",
        "Thyroid_data['T3 measured']= label_encoder.fit_transform(Thyroid_data['T3 measured']) \n",
        "# label_encoding of the column T3\n",
        "Thyroid_data['T3']= label_encoder.fit_transform(Thyroid_data['T3']) \n",
        "# to encode the value of TT4 measured \n",
        "Thyroid_data['TT4 measured']= label_encoder.fit_transform(Thyroid_data['TT4 measured']) \n",
        "# label_encoding of the column TT4\n",
        "Thyroid_data['TT4']= label_encoder.fit_transform(Thyroid_data['TT4']) \n",
        "# to encode the value of T4U measured\n",
        "Thyroid_data['T4U measured']= label_encoder.fit_transform(Thyroid_data['T4U measured']) \n",
        "# label_encoding of the column T4U\n",
        "Thyroid_data['T4U']= label_encoder.fit_transform(Thyroid_data['T4U']) \n",
        "# to encode the value of FTI measured \n",
        "Thyroid_data['FTI measured']= label_encoder.fit_transform(Thyroid_data['FTI measured']) \n",
        "# label_encoding of the column FTI\n",
        "Thyroid_data['FTI']= label_encoder.fit_transform(Thyroid_data['FTI']) \n",
        "# to encode the value of TBG measured\n",
        "Thyroid_data['TBG measured']= label_encoder.fit_transform(Thyroid_data['TBG measured']) \n",
        "# label_encoding of the column refferal source \n",
        "Thyroid_data['referral source']= label_encoder.fit_transform(Thyroid_data['referral source']) \n",
        "# to encode the value of binary class \n",
        "Thyroid_data['binaryClass']= label_encoder.fit_transform(Thyroid_data['binaryClass'])\n"
      ],
      "metadata": {
        "id": "YXvSPr5WoLdr"
      },
      "execution_count": 16,
      "outputs": []
    },
    {
      "cell_type": "code",
      "source": [
        "Thyroid_data.head() # to show starting five rows data"
      ],
      "metadata": {
        "id": "nhdDqH8OoLga",
        "colab": {
          "base_uri": "https://localhost:8080/",
          "height": 305
        },
        "outputId": "ada41e32-74f1-41ee-e7b4-ecc3f6f71691"
      },
      "execution_count": 17,
      "outputs": [
        {
          "output_type": "execute_result",
          "data": {
            "text/plain": [
              "   age  sex  on thyroxine  query on thyroxine  on antithyroid medication  \\\n",
              "0   34    0             0                   0                          0   \n",
              "1   15    0             0                   0                          0   \n",
              "2   40    1             0                   0                          0   \n",
              "3   67    0             1                   0                          0   \n",
              "4   67    0             0                   0                          0   \n",
              "\n",
              "   sick  pregnant  thyroid surgery  I131 treatment  query hypothyroid  \\\n",
              "0     0         0                0               0                  0   \n",
              "1     0         0                0               0                  0   \n",
              "2     0         0                0               0                  0   \n",
              "3     0         0                0               0                  0   \n",
              "4     0         0                0               0                  0   \n",
              "\n",
              "   query hyperthyroid  lithium  goitre  tumor  hypopituitary  psych  \\\n",
              "0                   0        0       0      0              0      0   \n",
              "1                   0        0       0      0              0      0   \n",
              "2                   0        0       0      0              0      0   \n",
              "3                   0        0       0      0              0      0   \n",
              "4                   0        0       0      0              0      0   \n",
              "\n",
              "   TSH measured  TSH  T3 measured  T3  TT4 measured  TT4  T4U measured  T4U  \\\n",
              "0             1  108            1  27             1   28             1   69   \n",
              "1             1  186            1  22             1    3             0  140   \n",
              "2             1  102            0  67             1   10             1   45   \n",
              "3             1   21            1  20             1   82             0  140   \n",
              "4             1   76            1  12             1  190             1   41   \n",
              "\n",
              "   FTI measured  FTI  TBG measured  referral source  binaryClass  \n",
              "0             1   10             0                1            1  \n",
              "1             0  217             0                4            1  \n",
              "2             1   22             0                4            1  \n",
              "3             0  217             0                4            1  \n",
              "4             1  185             0                3            1  "
            ],
            "text/html": [
              "\n",
              "  <div id=\"df-ac097c44-03be-418b-ba2f-07b85b1b05bd\">\n",
              "    <div class=\"colab-df-container\">\n",
              "      <div>\n",
              "<style scoped>\n",
              "    .dataframe tbody tr th:only-of-type {\n",
              "        vertical-align: middle;\n",
              "    }\n",
              "\n",
              "    .dataframe tbody tr th {\n",
              "        vertical-align: top;\n",
              "    }\n",
              "\n",
              "    .dataframe thead th {\n",
              "        text-align: right;\n",
              "    }\n",
              "</style>\n",
              "<table border=\"1\" class=\"dataframe\">\n",
              "  <thead>\n",
              "    <tr style=\"text-align: right;\">\n",
              "      <th></th>\n",
              "      <th>age</th>\n",
              "      <th>sex</th>\n",
              "      <th>on thyroxine</th>\n",
              "      <th>query on thyroxine</th>\n",
              "      <th>on antithyroid medication</th>\n",
              "      <th>sick</th>\n",
              "      <th>pregnant</th>\n",
              "      <th>thyroid surgery</th>\n",
              "      <th>I131 treatment</th>\n",
              "      <th>query hypothyroid</th>\n",
              "      <th>query hyperthyroid</th>\n",
              "      <th>lithium</th>\n",
              "      <th>goitre</th>\n",
              "      <th>tumor</th>\n",
              "      <th>hypopituitary</th>\n",
              "      <th>psych</th>\n",
              "      <th>TSH measured</th>\n",
              "      <th>TSH</th>\n",
              "      <th>T3 measured</th>\n",
              "      <th>T3</th>\n",
              "      <th>TT4 measured</th>\n",
              "      <th>TT4</th>\n",
              "      <th>T4U measured</th>\n",
              "      <th>T4U</th>\n",
              "      <th>FTI measured</th>\n",
              "      <th>FTI</th>\n",
              "      <th>TBG measured</th>\n",
              "      <th>referral source</th>\n",
              "      <th>binaryClass</th>\n",
              "    </tr>\n",
              "  </thead>\n",
              "  <tbody>\n",
              "    <tr>\n",
              "      <th>0</th>\n",
              "      <td>34</td>\n",
              "      <td>0</td>\n",
              "      <td>0</td>\n",
              "      <td>0</td>\n",
              "      <td>0</td>\n",
              "      <td>0</td>\n",
              "      <td>0</td>\n",
              "      <td>0</td>\n",
              "      <td>0</td>\n",
              "      <td>0</td>\n",
              "      <td>0</td>\n",
              "      <td>0</td>\n",
              "      <td>0</td>\n",
              "      <td>0</td>\n",
              "      <td>0</td>\n",
              "      <td>0</td>\n",
              "      <td>1</td>\n",
              "      <td>108</td>\n",
              "      <td>1</td>\n",
              "      <td>27</td>\n",
              "      <td>1</td>\n",
              "      <td>28</td>\n",
              "      <td>1</td>\n",
              "      <td>69</td>\n",
              "      <td>1</td>\n",
              "      <td>10</td>\n",
              "      <td>0</td>\n",
              "      <td>1</td>\n",
              "      <td>1</td>\n",
              "    </tr>\n",
              "    <tr>\n",
              "      <th>1</th>\n",
              "      <td>15</td>\n",
              "      <td>0</td>\n",
              "      <td>0</td>\n",
              "      <td>0</td>\n",
              "      <td>0</td>\n",
              "      <td>0</td>\n",
              "      <td>0</td>\n",
              "      <td>0</td>\n",
              "      <td>0</td>\n",
              "      <td>0</td>\n",
              "      <td>0</td>\n",
              "      <td>0</td>\n",
              "      <td>0</td>\n",
              "      <td>0</td>\n",
              "      <td>0</td>\n",
              "      <td>0</td>\n",
              "      <td>1</td>\n",
              "      <td>186</td>\n",
              "      <td>1</td>\n",
              "      <td>22</td>\n",
              "      <td>1</td>\n",
              "      <td>3</td>\n",
              "      <td>0</td>\n",
              "      <td>140</td>\n",
              "      <td>0</td>\n",
              "      <td>217</td>\n",
              "      <td>0</td>\n",
              "      <td>4</td>\n",
              "      <td>1</td>\n",
              "    </tr>\n",
              "    <tr>\n",
              "      <th>2</th>\n",
              "      <td>40</td>\n",
              "      <td>1</td>\n",
              "      <td>0</td>\n",
              "      <td>0</td>\n",
              "      <td>0</td>\n",
              "      <td>0</td>\n",
              "      <td>0</td>\n",
              "      <td>0</td>\n",
              "      <td>0</td>\n",
              "      <td>0</td>\n",
              "      <td>0</td>\n",
              "      <td>0</td>\n",
              "      <td>0</td>\n",
              "      <td>0</td>\n",
              "      <td>0</td>\n",
              "      <td>0</td>\n",
              "      <td>1</td>\n",
              "      <td>102</td>\n",
              "      <td>0</td>\n",
              "      <td>67</td>\n",
              "      <td>1</td>\n",
              "      <td>10</td>\n",
              "      <td>1</td>\n",
              "      <td>45</td>\n",
              "      <td>1</td>\n",
              "      <td>22</td>\n",
              "      <td>0</td>\n",
              "      <td>4</td>\n",
              "      <td>1</td>\n",
              "    </tr>\n",
              "    <tr>\n",
              "      <th>3</th>\n",
              "      <td>67</td>\n",
              "      <td>0</td>\n",
              "      <td>1</td>\n",
              "      <td>0</td>\n",
              "      <td>0</td>\n",
              "      <td>0</td>\n",
              "      <td>0</td>\n",
              "      <td>0</td>\n",
              "      <td>0</td>\n",
              "      <td>0</td>\n",
              "      <td>0</td>\n",
              "      <td>0</td>\n",
              "      <td>0</td>\n",
              "      <td>0</td>\n",
              "      <td>0</td>\n",
              "      <td>0</td>\n",
              "      <td>1</td>\n",
              "      <td>21</td>\n",
              "      <td>1</td>\n",
              "      <td>20</td>\n",
              "      <td>1</td>\n",
              "      <td>82</td>\n",
              "      <td>0</td>\n",
              "      <td>140</td>\n",
              "      <td>0</td>\n",
              "      <td>217</td>\n",
              "      <td>0</td>\n",
              "      <td>4</td>\n",
              "      <td>1</td>\n",
              "    </tr>\n",
              "    <tr>\n",
              "      <th>4</th>\n",
              "      <td>67</td>\n",
              "      <td>0</td>\n",
              "      <td>0</td>\n",
              "      <td>0</td>\n",
              "      <td>0</td>\n",
              "      <td>0</td>\n",
              "      <td>0</td>\n",
              "      <td>0</td>\n",
              "      <td>0</td>\n",
              "      <td>0</td>\n",
              "      <td>0</td>\n",
              "      <td>0</td>\n",
              "      <td>0</td>\n",
              "      <td>0</td>\n",
              "      <td>0</td>\n",
              "      <td>0</td>\n",
              "      <td>1</td>\n",
              "      <td>76</td>\n",
              "      <td>1</td>\n",
              "      <td>12</td>\n",
              "      <td>1</td>\n",
              "      <td>190</td>\n",
              "      <td>1</td>\n",
              "      <td>41</td>\n",
              "      <td>1</td>\n",
              "      <td>185</td>\n",
              "      <td>0</td>\n",
              "      <td>3</td>\n",
              "      <td>1</td>\n",
              "    </tr>\n",
              "  </tbody>\n",
              "</table>\n",
              "</div>\n",
              "      <button class=\"colab-df-convert\" onclick=\"convertToInteractive('df-ac097c44-03be-418b-ba2f-07b85b1b05bd')\"\n",
              "              title=\"Convert this dataframe to an interactive table.\"\n",
              "              style=\"display:none;\">\n",
              "        \n",
              "  <svg xmlns=\"http://www.w3.org/2000/svg\" height=\"24px\"viewBox=\"0 0 24 24\"\n",
              "       width=\"24px\">\n",
              "    <path d=\"M0 0h24v24H0V0z\" fill=\"none\"/>\n",
              "    <path d=\"M18.56 5.44l.94 2.06.94-2.06 2.06-.94-2.06-.94-.94-2.06-.94 2.06-2.06.94zm-11 1L8.5 8.5l.94-2.06 2.06-.94-2.06-.94L8.5 2.5l-.94 2.06-2.06.94zm10 10l.94 2.06.94-2.06 2.06-.94-2.06-.94-.94-2.06-.94 2.06-2.06.94z\"/><path d=\"M17.41 7.96l-1.37-1.37c-.4-.4-.92-.59-1.43-.59-.52 0-1.04.2-1.43.59L10.3 9.45l-7.72 7.72c-.78.78-.78 2.05 0 2.83L4 21.41c.39.39.9.59 1.41.59.51 0 1.02-.2 1.41-.59l7.78-7.78 2.81-2.81c.8-.78.8-2.07 0-2.86zM5.41 20L4 18.59l7.72-7.72 1.47 1.35L5.41 20z\"/>\n",
              "  </svg>\n",
              "      </button>\n",
              "      \n",
              "  <style>\n",
              "    .colab-df-container {\n",
              "      display:flex;\n",
              "      flex-wrap:wrap;\n",
              "      gap: 12px;\n",
              "    }\n",
              "\n",
              "    .colab-df-convert {\n",
              "      background-color: #E8F0FE;\n",
              "      border: none;\n",
              "      border-radius: 50%;\n",
              "      cursor: pointer;\n",
              "      display: none;\n",
              "      fill: #1967D2;\n",
              "      height: 32px;\n",
              "      padding: 0 0 0 0;\n",
              "      width: 32px;\n",
              "    }\n",
              "\n",
              "    .colab-df-convert:hover {\n",
              "      background-color: #E2EBFA;\n",
              "      box-shadow: 0px 1px 2px rgba(60, 64, 67, 0.3), 0px 1px 3px 1px rgba(60, 64, 67, 0.15);\n",
              "      fill: #174EA6;\n",
              "    }\n",
              "\n",
              "    [theme=dark] .colab-df-convert {\n",
              "      background-color: #3B4455;\n",
              "      fill: #D2E3FC;\n",
              "    }\n",
              "\n",
              "    [theme=dark] .colab-df-convert:hover {\n",
              "      background-color: #434B5C;\n",
              "      box-shadow: 0px 1px 3px 1px rgba(0, 0, 0, 0.15);\n",
              "      filter: drop-shadow(0px 1px 2px rgba(0, 0, 0, 0.3));\n",
              "      fill: #FFFFFF;\n",
              "    }\n",
              "  </style>\n",
              "\n",
              "      <script>\n",
              "        const buttonEl =\n",
              "          document.querySelector('#df-ac097c44-03be-418b-ba2f-07b85b1b05bd button.colab-df-convert');\n",
              "        buttonEl.style.display =\n",
              "          google.colab.kernel.accessAllowed ? 'block' : 'none';\n",
              "\n",
              "        async function convertToInteractive(key) {\n",
              "          const element = document.querySelector('#df-ac097c44-03be-418b-ba2f-07b85b1b05bd');\n",
              "          const dataTable =\n",
              "            await google.colab.kernel.invokeFunction('convertToInteractive',\n",
              "                                                     [key], {});\n",
              "          if (!dataTable) return;\n",
              "\n",
              "          const docLinkHtml = 'Like what you see? Visit the ' +\n",
              "            '<a target=\"_blank\" href=https://colab.research.google.com/notebooks/data_table.ipynb>data table notebook</a>'\n",
              "            + ' to learn more about interactive tables.';\n",
              "          element.innerHTML = '';\n",
              "          dataTable['output_type'] = 'display_data';\n",
              "          await google.colab.output.renderOutput(dataTable, element);\n",
              "          const docLink = document.createElement('div');\n",
              "          docLink.innerHTML = docLinkHtml;\n",
              "          element.appendChild(docLink);\n",
              "        }\n",
              "      </script>\n",
              "    </div>\n",
              "  </div>\n",
              "  "
            ]
          },
          "metadata": {},
          "execution_count": 17
        }
      ]
    },
    {
      "cell_type": "code",
      "source": [
        "Thyroid_data.nunique # to get the unique values from the dataset"
      ],
      "metadata": {
        "id": "fcBOGClqoLjG",
        "colab": {
          "base_uri": "https://localhost:8080/"
        },
        "outputId": "621b6f66-34d1-4583-b651-21a502360d7d"
      },
      "execution_count": 18,
      "outputs": [
        {
          "output_type": "execute_result",
          "data": {
            "text/plain": [
              "<bound method DataFrame.nunique of       age  sex  on thyroxine  query on thyroxine  on antithyroid medication  \\\n",
              "0      34    0             0                   0                          0   \n",
              "1      15    0             0                   0                          0   \n",
              "2      40    1             0                   0                          0   \n",
              "3      67    0             1                   0                          0   \n",
              "4      67    0             0                   0                          0   \n",
              "...   ...  ...           ...                 ...                        ...   \n",
              "3158   17    1             0                   0                          0   \n",
              "3159   68    0             1                   0                          0   \n",
              "3160   29    0             0                   0                          0   \n",
              "3161   51    0             0                   0                          0   \n",
              "3162   73    0             0                   0                          0   \n",
              "\n",
              "      sick  pregnant  thyroid surgery  I131 treatment  query hypothyroid  \\\n",
              "0        0         0                0               0                  0   \n",
              "1        0         0                0               0                  0   \n",
              "2        0         0                0               0                  0   \n",
              "3        0         0                0               0                  0   \n",
              "4        0         0                0               0                  0   \n",
              "...    ...       ...              ...             ...                ...   \n",
              "3158     0         0                0               0                  0   \n",
              "3159     0         0                0               0                  0   \n",
              "3160     0         0                0               0                  0   \n",
              "3161     0         0                0               0                  0   \n",
              "3162     1         0                1               0                  0   \n",
              "\n",
              "      query hyperthyroid  lithium  goitre  tumor  hypopituitary  psych  \\\n",
              "0                      0        0       0      0              0      0   \n",
              "1                      0        0       0      0              0      0   \n",
              "2                      0        0       0      0              0      0   \n",
              "3                      0        0       0      0              0      0   \n",
              "4                      0        0       0      0              0      0   \n",
              "...                  ...      ...     ...    ...            ...    ...   \n",
              "3158                   0        0       0      0              0      1   \n",
              "3159                   0        0       0      0              0      0   \n",
              "3160                   0        0       0      0              0      0   \n",
              "3161                   0        0       0      0              0      0   \n",
              "3162                   0        0       0      0              0      0   \n",
              "\n",
              "      TSH measured  TSH  T3 measured  T3  TT4 measured  TT4  T4U measured  \\\n",
              "0                1  108            1  27             1   28             1   \n",
              "1                1  186            1  22             1    3             0   \n",
              "2                1  102            0  67             1   10             1   \n",
              "3                1   21            1  20             1   82             0   \n",
              "4                1   76            1  12             1  190             1   \n",
              "...            ...  ...          ...  ..           ...  ...           ...   \n",
              "3158             1  111            1  23             1  218             1   \n",
              "3159             1  153            1  12             1    8             1   \n",
              "3160             1  206            1  27             1  213             1   \n",
              "3161             1  241            1  12             1  202             1   \n",
              "3162             1  113            1  12             1  194             1   \n",
              "\n",
              "      T4U  FTI measured  FTI  TBG measured  referral source  binaryClass  \n",
              "0      69             1   10             0                1            1  \n",
              "1     140             0  217             0                4            1  \n",
              "2      45             1   22             0                4            1  \n",
              "3     140             0  217             0                4            1  \n",
              "4      41             1  185             0                3            1  \n",
              "...   ...           ...  ...           ...              ...          ...  \n",
              "3158   40             1    4             0                1            1  \n",
              "3159   65             1  214             0                4            1  \n",
              "3160   60             1  196             0                1            1  \n",
              "3161   34             1  208             0                3            0  \n",
              "3162   30             1  202             0                4            1  \n",
              "\n",
              "[3163 rows x 29 columns]>"
            ]
          },
          "metadata": {},
          "execution_count": 18
        }
      ]
    },
    {
      "cell_type": "code",
      "source": [
        "#filling the null data from the different columns \n",
        "Thyroid_data['sex'].fillna(Thyroid_data['sex'].mean(), inplace=True)\n",
        "# filling the missing value of Sex columns \n",
        "Thyroid_data['TSH'].fillna(Thyroid_data['TSH'].mean(), inplace=True)\n",
        "# to fill the missing value of TSH columns \n",
        "Thyroid_data['T3'].fillna(Thyroid_data['T3'].mean(), inplace=True)\n",
        "# filling the missing value of T3 columns \n",
        "Thyroid_data['TT4'].fillna(Thyroid_data['TT4'].mean(), inplace=True)\n",
        "# to fill the missing value of TT4 columns \n",
        "Thyroid_data['T4U'].fillna(Thyroid_data['T4U'].mean(), inplace=True)\n",
        "# filling the missing value of T4U columns \n",
        "Thyroid_data['FTI'].fillna(Thyroid_data['FTI'].mean(), inplace=True)\n",
        "# to fill the missing value of FTI columns "
      ],
      "metadata": {
        "id": "wm5LyLHfoLl1"
      },
      "execution_count": 19,
      "outputs": []
    },
    {
      "cell_type": "code",
      "source": [
        "Thyroid_data.isna().sum()  # to check the null values "
      ],
      "metadata": {
        "id": "5xmZycJsoLoz",
        "colab": {
          "base_uri": "https://localhost:8080/"
        },
        "outputId": "952bc283-ccca-4ce4-c24b-f180d6ce5d61"
      },
      "execution_count": 20,
      "outputs": [
        {
          "output_type": "execute_result",
          "data": {
            "text/plain": [
              "age                          0\n",
              "sex                          0\n",
              "on thyroxine                 0\n",
              "query on thyroxine           0\n",
              "on antithyroid medication    0\n",
              "sick                         0\n",
              "pregnant                     0\n",
              "thyroid surgery              0\n",
              "I131 treatment               0\n",
              "query hypothyroid            0\n",
              "query hyperthyroid           0\n",
              "lithium                      0\n",
              "goitre                       0\n",
              "tumor                        0\n",
              "hypopituitary                0\n",
              "psych                        0\n",
              "TSH measured                 0\n",
              "TSH                          0\n",
              "T3 measured                  0\n",
              "T3                           0\n",
              "TT4 measured                 0\n",
              "TT4                          0\n",
              "T4U measured                 0\n",
              "T4U                          0\n",
              "FTI measured                 0\n",
              "FTI                          0\n",
              "TBG measured                 0\n",
              "referral source              0\n",
              "binaryClass                  0\n",
              "dtype: int64"
            ]
          },
          "metadata": {},
          "execution_count": 20
        }
      ]
    },
    {
      "cell_type": "code",
      "source": [
        "Thyroid_data[\"binaryClass\"].value_counts().T  # to get the info about target class"
      ],
      "metadata": {
        "colab": {
          "base_uri": "https://localhost:8080/"
        },
        "id": "yIwYV_wToLri",
        "outputId": "993504eb-23d7-4fec-a991-f222df32a50d"
      },
      "execution_count": 21,
      "outputs": [
        {
          "output_type": "execute_result",
          "data": {
            "text/plain": [
              "1    2919\n",
              "0     244\n",
              "Name: binaryClass, dtype: int64"
            ]
          },
          "metadata": {},
          "execution_count": 21
        }
      ]
    },
    {
      "cell_type": "code",
      "source": [
        "Thyroid_data[\"binaryClass\"].describe().T # to get the description"
      ],
      "metadata": {
        "colab": {
          "base_uri": "https://localhost:8080/"
        },
        "id": "RymJvPMioLuC",
        "outputId": "21bdf910-9dc0-438a-b65a-536da7952bef"
      },
      "execution_count": 22,
      "outputs": [
        {
          "output_type": "execute_result",
          "data": {
            "text/plain": [
              "count    3163.000000\n",
              "mean        0.922858\n",
              "std         0.266859\n",
              "min         0.000000\n",
              "25%         1.000000\n",
              "50%         1.000000\n",
              "75%         1.000000\n",
              "max         1.000000\n",
              "Name: binaryClass, dtype: float64"
            ]
          },
          "metadata": {},
          "execution_count": 22
        }
      ]
    },
    {
      "cell_type": "code",
      "source": [
        "Thyroid_data.head(20) # to print twenty rows data"
      ],
      "metadata": {
        "id": "wCiPYDzWoLxC",
        "colab": {
          "base_uri": "https://localhost:8080/",
          "height": 775
        },
        "outputId": "1fecb376-c840-4623-f283-04b3e0b59172"
      },
      "execution_count": 23,
      "outputs": [
        {
          "output_type": "execute_result",
          "data": {
            "text/plain": [
              "    age  sex  on thyroxine  query on thyroxine  on antithyroid medication  \\\n",
              "0    34    0             0                   0                          0   \n",
              "1    15    0             0                   0                          0   \n",
              "2    40    1             0                   0                          0   \n",
              "3    67    0             1                   0                          0   \n",
              "4    67    0             0                   0                          0   \n",
              "5     9    0             1                   0                          0   \n",
              "6    54    0             0                   0                          0   \n",
              "7    78    0             0                   0                          0   \n",
              "8    62    0             0                   0                          0   \n",
              "9    64    1             0                   0                          0   \n",
              "10   82    0             0                   0                          0   \n",
              "11   63    0             1                   0                          0   \n",
              "12   68    0             0                   0                          0   \n",
              "13   54    0             0                   0                          0   \n",
              "14   20    1             0                   0                          0   \n",
              "15   61    0             0                   0                          0   \n",
              "16   35    2             0                   0                          0   \n",
              "17   59    0             0                   0                          0   \n",
              "18   78    0             0                   0                          0   \n",
              "19   20    1             0                   0                          0   \n",
              "\n",
              "    sick  pregnant  thyroid surgery  I131 treatment  query hypothyroid  \\\n",
              "0      0         0                0               0                  0   \n",
              "1      0         0                0               0                  0   \n",
              "2      0         0                0               0                  0   \n",
              "3      0         0                0               0                  0   \n",
              "4      0         0                0               0                  0   \n",
              "5      0         0                0               0                  0   \n",
              "6      0         0                0               0                  0   \n",
              "7      0         0                0               0                  0   \n",
              "8      0         0                0               0                  0   \n",
              "9      0         0                0               0                  0   \n",
              "10     0         0                0               0                  0   \n",
              "11     0         0                0               0                  0   \n",
              "12     1         0                0               0                  0   \n",
              "13     0         0                0               0                  0   \n",
              "14     0         0                0               0                  0   \n",
              "15     0         0                0               0                  1   \n",
              "16     0         0                0               0                  0   \n",
              "17     0         0                0               0                  0   \n",
              "18     0         0                0               0                  0   \n",
              "19     0         0                0               0                  0   \n",
              "\n",
              "    query hyperthyroid  lithium  goitre  tumor  hypopituitary  psych  \\\n",
              "0                    0        0       0      0              0      0   \n",
              "1                    0        0       0      0              0      0   \n",
              "2                    0        0       0      0              0      0   \n",
              "3                    0        0       0      0              0      0   \n",
              "4                    0        0       0      0              0      0   \n",
              "5                    0        0       0      0              0      0   \n",
              "6                    0        0       0      0              0      0   \n",
              "7                    0        0       0      0              0      0   \n",
              "8                    0        0       0      1              0      0   \n",
              "9                    0        0       0      0              0      0   \n",
              "10                   0        0       0      1              0      0   \n",
              "11                   0        0       0      0              0      0   \n",
              "12                   1        0       0      0              0      0   \n",
              "13                   0        0       0      0              0      0   \n",
              "14                   0        0       0      0              0      0   \n",
              "15                   0        0       0      0              0      0   \n",
              "16                   0        0       0      0              0      0   \n",
              "17                   0        0       0      0              0      0   \n",
              "18                   0        0       0      0              0      1   \n",
              "19                   0        0       0      0              0      1   \n",
              "\n",
              "    TSH measured  TSH  T3 measured  T3  TT4 measured  TT4  T4U measured  T4U  \\\n",
              "0              1  108            1  27             1   28             1   69   \n",
              "1              1  186            1  22             1    3             0  140   \n",
              "2              1  102            0  67             1   10             1   45   \n",
              "3              1   21            1  20             1   82             0  140   \n",
              "4              1   76            1  12             1  190             1   41   \n",
              "5              1    5            0  67             1   91             1   85   \n",
              "6              0  270            0  67             1  201             1   46   \n",
              "7              1  148            1   6             1  209             1   24   \n",
              "8              1   64            1  24             1   26             1   47   \n",
              "9              1  150            1  17             1  212             1   43   \n",
              "10             1  106            1  24             1   17             1   50   \n",
              "11             1    5            0  67             1   58             1   54   \n",
              "12             1    5            1  40             1   78             1   68   \n",
              "13             1  154            1  18             1  227             1   45   \n",
              "14             1  169            1  19             1   10             1   45   \n",
              "15             1  124            0  67             1  229             1   69   \n",
              "16             1  107            1  19             1  199             1   40   \n",
              "17             1  110            1  12             1   19             1   51   \n",
              "18             1  220            1  17             1  229             1   50   \n",
              "19             1  147            1  28             1   24             1   48   \n",
              "\n",
              "    FTI measured  FTI  TBG measured  referral source  binaryClass  \n",
              "0              1   10             0                1            1  \n",
              "1              0  217             0                4            1  \n",
              "2              1   22             0                4            1  \n",
              "3              0  217             0                4            1  \n",
              "4              1  185             0                3            1  \n",
              "5              1   45             0                4            1  \n",
              "6              1  193             0                4            1  \n",
              "7              1   17             0                3            1  \n",
              "8              1   35             0                3            1  \n",
              "9              1  210             0                3            1  \n",
              "10             1   23             0                3            1  \n",
              "11             1   57             0                4            1  \n",
              "12             1   55             0                4            1  \n",
              "13             1    8             0                3            1  \n",
              "14             1   21             0                1            1  \n",
              "15             1  203             0                4            0  \n",
              "16             1  197             0                4            1  \n",
              "17             1   23             0                3            1  \n",
              "18             1    5             0                3            1  \n",
              "19             1   33             0                1            1  "
            ],
            "text/html": [
              "\n",
              "  <div id=\"df-4aadd078-9ba3-4310-9692-6c759c833ed3\">\n",
              "    <div class=\"colab-df-container\">\n",
              "      <div>\n",
              "<style scoped>\n",
              "    .dataframe tbody tr th:only-of-type {\n",
              "        vertical-align: middle;\n",
              "    }\n",
              "\n",
              "    .dataframe tbody tr th {\n",
              "        vertical-align: top;\n",
              "    }\n",
              "\n",
              "    .dataframe thead th {\n",
              "        text-align: right;\n",
              "    }\n",
              "</style>\n",
              "<table border=\"1\" class=\"dataframe\">\n",
              "  <thead>\n",
              "    <tr style=\"text-align: right;\">\n",
              "      <th></th>\n",
              "      <th>age</th>\n",
              "      <th>sex</th>\n",
              "      <th>on thyroxine</th>\n",
              "      <th>query on thyroxine</th>\n",
              "      <th>on antithyroid medication</th>\n",
              "      <th>sick</th>\n",
              "      <th>pregnant</th>\n",
              "      <th>thyroid surgery</th>\n",
              "      <th>I131 treatment</th>\n",
              "      <th>query hypothyroid</th>\n",
              "      <th>query hyperthyroid</th>\n",
              "      <th>lithium</th>\n",
              "      <th>goitre</th>\n",
              "      <th>tumor</th>\n",
              "      <th>hypopituitary</th>\n",
              "      <th>psych</th>\n",
              "      <th>TSH measured</th>\n",
              "      <th>TSH</th>\n",
              "      <th>T3 measured</th>\n",
              "      <th>T3</th>\n",
              "      <th>TT4 measured</th>\n",
              "      <th>TT4</th>\n",
              "      <th>T4U measured</th>\n",
              "      <th>T4U</th>\n",
              "      <th>FTI measured</th>\n",
              "      <th>FTI</th>\n",
              "      <th>TBG measured</th>\n",
              "      <th>referral source</th>\n",
              "      <th>binaryClass</th>\n",
              "    </tr>\n",
              "  </thead>\n",
              "  <tbody>\n",
              "    <tr>\n",
              "      <th>0</th>\n",
              "      <td>34</td>\n",
              "      <td>0</td>\n",
              "      <td>0</td>\n",
              "      <td>0</td>\n",
              "      <td>0</td>\n",
              "      <td>0</td>\n",
              "      <td>0</td>\n",
              "      <td>0</td>\n",
              "      <td>0</td>\n",
              "      <td>0</td>\n",
              "      <td>0</td>\n",
              "      <td>0</td>\n",
              "      <td>0</td>\n",
              "      <td>0</td>\n",
              "      <td>0</td>\n",
              "      <td>0</td>\n",
              "      <td>1</td>\n",
              "      <td>108</td>\n",
              "      <td>1</td>\n",
              "      <td>27</td>\n",
              "      <td>1</td>\n",
              "      <td>28</td>\n",
              "      <td>1</td>\n",
              "      <td>69</td>\n",
              "      <td>1</td>\n",
              "      <td>10</td>\n",
              "      <td>0</td>\n",
              "      <td>1</td>\n",
              "      <td>1</td>\n",
              "    </tr>\n",
              "    <tr>\n",
              "      <th>1</th>\n",
              "      <td>15</td>\n",
              "      <td>0</td>\n",
              "      <td>0</td>\n",
              "      <td>0</td>\n",
              "      <td>0</td>\n",
              "      <td>0</td>\n",
              "      <td>0</td>\n",
              "      <td>0</td>\n",
              "      <td>0</td>\n",
              "      <td>0</td>\n",
              "      <td>0</td>\n",
              "      <td>0</td>\n",
              "      <td>0</td>\n",
              "      <td>0</td>\n",
              "      <td>0</td>\n",
              "      <td>0</td>\n",
              "      <td>1</td>\n",
              "      <td>186</td>\n",
              "      <td>1</td>\n",
              "      <td>22</td>\n",
              "      <td>1</td>\n",
              "      <td>3</td>\n",
              "      <td>0</td>\n",
              "      <td>140</td>\n",
              "      <td>0</td>\n",
              "      <td>217</td>\n",
              "      <td>0</td>\n",
              "      <td>4</td>\n",
              "      <td>1</td>\n",
              "    </tr>\n",
              "    <tr>\n",
              "      <th>2</th>\n",
              "      <td>40</td>\n",
              "      <td>1</td>\n",
              "      <td>0</td>\n",
              "      <td>0</td>\n",
              "      <td>0</td>\n",
              "      <td>0</td>\n",
              "      <td>0</td>\n",
              "      <td>0</td>\n",
              "      <td>0</td>\n",
              "      <td>0</td>\n",
              "      <td>0</td>\n",
              "      <td>0</td>\n",
              "      <td>0</td>\n",
              "      <td>0</td>\n",
              "      <td>0</td>\n",
              "      <td>0</td>\n",
              "      <td>1</td>\n",
              "      <td>102</td>\n",
              "      <td>0</td>\n",
              "      <td>67</td>\n",
              "      <td>1</td>\n",
              "      <td>10</td>\n",
              "      <td>1</td>\n",
              "      <td>45</td>\n",
              "      <td>1</td>\n",
              "      <td>22</td>\n",
              "      <td>0</td>\n",
              "      <td>4</td>\n",
              "      <td>1</td>\n",
              "    </tr>\n",
              "    <tr>\n",
              "      <th>3</th>\n",
              "      <td>67</td>\n",
              "      <td>0</td>\n",
              "      <td>1</td>\n",
              "      <td>0</td>\n",
              "      <td>0</td>\n",
              "      <td>0</td>\n",
              "      <td>0</td>\n",
              "      <td>0</td>\n",
              "      <td>0</td>\n",
              "      <td>0</td>\n",
              "      <td>0</td>\n",
              "      <td>0</td>\n",
              "      <td>0</td>\n",
              "      <td>0</td>\n",
              "      <td>0</td>\n",
              "      <td>0</td>\n",
              "      <td>1</td>\n",
              "      <td>21</td>\n",
              "      <td>1</td>\n",
              "      <td>20</td>\n",
              "      <td>1</td>\n",
              "      <td>82</td>\n",
              "      <td>0</td>\n",
              "      <td>140</td>\n",
              "      <td>0</td>\n",
              "      <td>217</td>\n",
              "      <td>0</td>\n",
              "      <td>4</td>\n",
              "      <td>1</td>\n",
              "    </tr>\n",
              "    <tr>\n",
              "      <th>4</th>\n",
              "      <td>67</td>\n",
              "      <td>0</td>\n",
              "      <td>0</td>\n",
              "      <td>0</td>\n",
              "      <td>0</td>\n",
              "      <td>0</td>\n",
              "      <td>0</td>\n",
              "      <td>0</td>\n",
              "      <td>0</td>\n",
              "      <td>0</td>\n",
              "      <td>0</td>\n",
              "      <td>0</td>\n",
              "      <td>0</td>\n",
              "      <td>0</td>\n",
              "      <td>0</td>\n",
              "      <td>0</td>\n",
              "      <td>1</td>\n",
              "      <td>76</td>\n",
              "      <td>1</td>\n",
              "      <td>12</td>\n",
              "      <td>1</td>\n",
              "      <td>190</td>\n",
              "      <td>1</td>\n",
              "      <td>41</td>\n",
              "      <td>1</td>\n",
              "      <td>185</td>\n",
              "      <td>0</td>\n",
              "      <td>3</td>\n",
              "      <td>1</td>\n",
              "    </tr>\n",
              "    <tr>\n",
              "      <th>5</th>\n",
              "      <td>9</td>\n",
              "      <td>0</td>\n",
              "      <td>1</td>\n",
              "      <td>0</td>\n",
              "      <td>0</td>\n",
              "      <td>0</td>\n",
              "      <td>0</td>\n",
              "      <td>0</td>\n",
              "      <td>0</td>\n",
              "      <td>0</td>\n",
              "      <td>0</td>\n",
              "      <td>0</td>\n",
              "      <td>0</td>\n",
              "      <td>0</td>\n",
              "      <td>0</td>\n",
              "      <td>0</td>\n",
              "      <td>1</td>\n",
              "      <td>5</td>\n",
              "      <td>0</td>\n",
              "      <td>67</td>\n",
              "      <td>1</td>\n",
              "      <td>91</td>\n",
              "      <td>1</td>\n",
              "      <td>85</td>\n",
              "      <td>1</td>\n",
              "      <td>45</td>\n",
              "      <td>0</td>\n",
              "      <td>4</td>\n",
              "      <td>1</td>\n",
              "    </tr>\n",
              "    <tr>\n",
              "      <th>6</th>\n",
              "      <td>54</td>\n",
              "      <td>0</td>\n",
              "      <td>0</td>\n",
              "      <td>0</td>\n",
              "      <td>0</td>\n",
              "      <td>0</td>\n",
              "      <td>0</td>\n",
              "      <td>0</td>\n",
              "      <td>0</td>\n",
              "      <td>0</td>\n",
              "      <td>0</td>\n",
              "      <td>0</td>\n",
              "      <td>0</td>\n",
              "      <td>0</td>\n",
              "      <td>0</td>\n",
              "      <td>0</td>\n",
              "      <td>0</td>\n",
              "      <td>270</td>\n",
              "      <td>0</td>\n",
              "      <td>67</td>\n",
              "      <td>1</td>\n",
              "      <td>201</td>\n",
              "      <td>1</td>\n",
              "      <td>46</td>\n",
              "      <td>1</td>\n",
              "      <td>193</td>\n",
              "      <td>0</td>\n",
              "      <td>4</td>\n",
              "      <td>1</td>\n",
              "    </tr>\n",
              "    <tr>\n",
              "      <th>7</th>\n",
              "      <td>78</td>\n",
              "      <td>0</td>\n",
              "      <td>0</td>\n",
              "      <td>0</td>\n",
              "      <td>0</td>\n",
              "      <td>0</td>\n",
              "      <td>0</td>\n",
              "      <td>0</td>\n",
              "      <td>0</td>\n",
              "      <td>0</td>\n",
              "      <td>0</td>\n",
              "      <td>0</td>\n",
              "      <td>0</td>\n",
              "      <td>0</td>\n",
              "      <td>0</td>\n",
              "      <td>0</td>\n",
              "      <td>1</td>\n",
              "      <td>148</td>\n",
              "      <td>1</td>\n",
              "      <td>6</td>\n",
              "      <td>1</td>\n",
              "      <td>209</td>\n",
              "      <td>1</td>\n",
              "      <td>24</td>\n",
              "      <td>1</td>\n",
              "      <td>17</td>\n",
              "      <td>0</td>\n",
              "      <td>3</td>\n",
              "      <td>1</td>\n",
              "    </tr>\n",
              "    <tr>\n",
              "      <th>8</th>\n",
              "      <td>62</td>\n",
              "      <td>0</td>\n",
              "      <td>0</td>\n",
              "      <td>0</td>\n",
              "      <td>0</td>\n",
              "      <td>0</td>\n",
              "      <td>0</td>\n",
              "      <td>0</td>\n",
              "      <td>0</td>\n",
              "      <td>0</td>\n",
              "      <td>0</td>\n",
              "      <td>0</td>\n",
              "      <td>0</td>\n",
              "      <td>1</td>\n",
              "      <td>0</td>\n",
              "      <td>0</td>\n",
              "      <td>1</td>\n",
              "      <td>64</td>\n",
              "      <td>1</td>\n",
              "      <td>24</td>\n",
              "      <td>1</td>\n",
              "      <td>26</td>\n",
              "      <td>1</td>\n",
              "      <td>47</td>\n",
              "      <td>1</td>\n",
              "      <td>35</td>\n",
              "      <td>0</td>\n",
              "      <td>3</td>\n",
              "      <td>1</td>\n",
              "    </tr>\n",
              "    <tr>\n",
              "      <th>9</th>\n",
              "      <td>64</td>\n",
              "      <td>1</td>\n",
              "      <td>0</td>\n",
              "      <td>0</td>\n",
              "      <td>0</td>\n",
              "      <td>0</td>\n",
              "      <td>0</td>\n",
              "      <td>0</td>\n",
              "      <td>0</td>\n",
              "      <td>0</td>\n",
              "      <td>0</td>\n",
              "      <td>0</td>\n",
              "      <td>0</td>\n",
              "      <td>0</td>\n",
              "      <td>0</td>\n",
              "      <td>0</td>\n",
              "      <td>1</td>\n",
              "      <td>150</td>\n",
              "      <td>1</td>\n",
              "      <td>17</td>\n",
              "      <td>1</td>\n",
              "      <td>212</td>\n",
              "      <td>1</td>\n",
              "      <td>43</td>\n",
              "      <td>1</td>\n",
              "      <td>210</td>\n",
              "      <td>0</td>\n",
              "      <td>3</td>\n",
              "      <td>1</td>\n",
              "    </tr>\n",
              "    <tr>\n",
              "      <th>10</th>\n",
              "      <td>82</td>\n",
              "      <td>0</td>\n",
              "      <td>0</td>\n",
              "      <td>0</td>\n",
              "      <td>0</td>\n",
              "      <td>0</td>\n",
              "      <td>0</td>\n",
              "      <td>0</td>\n",
              "      <td>0</td>\n",
              "      <td>0</td>\n",
              "      <td>0</td>\n",
              "      <td>0</td>\n",
              "      <td>0</td>\n",
              "      <td>1</td>\n",
              "      <td>0</td>\n",
              "      <td>0</td>\n",
              "      <td>1</td>\n",
              "      <td>106</td>\n",
              "      <td>1</td>\n",
              "      <td>24</td>\n",
              "      <td>1</td>\n",
              "      <td>17</td>\n",
              "      <td>1</td>\n",
              "      <td>50</td>\n",
              "      <td>1</td>\n",
              "      <td>23</td>\n",
              "      <td>0</td>\n",
              "      <td>3</td>\n",
              "      <td>1</td>\n",
              "    </tr>\n",
              "    <tr>\n",
              "      <th>11</th>\n",
              "      <td>63</td>\n",
              "      <td>0</td>\n",
              "      <td>1</td>\n",
              "      <td>0</td>\n",
              "      <td>0</td>\n",
              "      <td>0</td>\n",
              "      <td>0</td>\n",
              "      <td>0</td>\n",
              "      <td>0</td>\n",
              "      <td>0</td>\n",
              "      <td>0</td>\n",
              "      <td>0</td>\n",
              "      <td>0</td>\n",
              "      <td>0</td>\n",
              "      <td>0</td>\n",
              "      <td>0</td>\n",
              "      <td>1</td>\n",
              "      <td>5</td>\n",
              "      <td>0</td>\n",
              "      <td>67</td>\n",
              "      <td>1</td>\n",
              "      <td>58</td>\n",
              "      <td>1</td>\n",
              "      <td>54</td>\n",
              "      <td>1</td>\n",
              "      <td>57</td>\n",
              "      <td>0</td>\n",
              "      <td>4</td>\n",
              "      <td>1</td>\n",
              "    </tr>\n",
              "    <tr>\n",
              "      <th>12</th>\n",
              "      <td>68</td>\n",
              "      <td>0</td>\n",
              "      <td>0</td>\n",
              "      <td>0</td>\n",
              "      <td>0</td>\n",
              "      <td>1</td>\n",
              "      <td>0</td>\n",
              "      <td>0</td>\n",
              "      <td>0</td>\n",
              "      <td>0</td>\n",
              "      <td>1</td>\n",
              "      <td>0</td>\n",
              "      <td>0</td>\n",
              "      <td>0</td>\n",
              "      <td>0</td>\n",
              "      <td>0</td>\n",
              "      <td>1</td>\n",
              "      <td>5</td>\n",
              "      <td>1</td>\n",
              "      <td>40</td>\n",
              "      <td>1</td>\n",
              "      <td>78</td>\n",
              "      <td>1</td>\n",
              "      <td>68</td>\n",
              "      <td>1</td>\n",
              "      <td>55</td>\n",
              "      <td>0</td>\n",
              "      <td>4</td>\n",
              "      <td>1</td>\n",
              "    </tr>\n",
              "    <tr>\n",
              "      <th>13</th>\n",
              "      <td>54</td>\n",
              "      <td>0</td>\n",
              "      <td>0</td>\n",
              "      <td>0</td>\n",
              "      <td>0</td>\n",
              "      <td>0</td>\n",
              "      <td>0</td>\n",
              "      <td>0</td>\n",
              "      <td>0</td>\n",
              "      <td>0</td>\n",
              "      <td>0</td>\n",
              "      <td>0</td>\n",
              "      <td>0</td>\n",
              "      <td>0</td>\n",
              "      <td>0</td>\n",
              "      <td>0</td>\n",
              "      <td>1</td>\n",
              "      <td>154</td>\n",
              "      <td>1</td>\n",
              "      <td>18</td>\n",
              "      <td>1</td>\n",
              "      <td>227</td>\n",
              "      <td>1</td>\n",
              "      <td>45</td>\n",
              "      <td>1</td>\n",
              "      <td>8</td>\n",
              "      <td>0</td>\n",
              "      <td>3</td>\n",
              "      <td>1</td>\n",
              "    </tr>\n",
              "    <tr>\n",
              "      <th>14</th>\n",
              "      <td>20</td>\n",
              "      <td>1</td>\n",
              "      <td>0</td>\n",
              "      <td>0</td>\n",
              "      <td>0</td>\n",
              "      <td>0</td>\n",
              "      <td>0</td>\n",
              "      <td>0</td>\n",
              "      <td>0</td>\n",
              "      <td>0</td>\n",
              "      <td>0</td>\n",
              "      <td>0</td>\n",
              "      <td>0</td>\n",
              "      <td>0</td>\n",
              "      <td>0</td>\n",
              "      <td>0</td>\n",
              "      <td>1</td>\n",
              "      <td>169</td>\n",
              "      <td>1</td>\n",
              "      <td>19</td>\n",
              "      <td>1</td>\n",
              "      <td>10</td>\n",
              "      <td>1</td>\n",
              "      <td>45</td>\n",
              "      <td>1</td>\n",
              "      <td>21</td>\n",
              "      <td>0</td>\n",
              "      <td>1</td>\n",
              "      <td>1</td>\n",
              "    </tr>\n",
              "    <tr>\n",
              "      <th>15</th>\n",
              "      <td>61</td>\n",
              "      <td>0</td>\n",
              "      <td>0</td>\n",
              "      <td>0</td>\n",
              "      <td>0</td>\n",
              "      <td>0</td>\n",
              "      <td>0</td>\n",
              "      <td>0</td>\n",
              "      <td>0</td>\n",
              "      <td>1</td>\n",
              "      <td>0</td>\n",
              "      <td>0</td>\n",
              "      <td>0</td>\n",
              "      <td>0</td>\n",
              "      <td>0</td>\n",
              "      <td>0</td>\n",
              "      <td>1</td>\n",
              "      <td>124</td>\n",
              "      <td>0</td>\n",
              "      <td>67</td>\n",
              "      <td>1</td>\n",
              "      <td>229</td>\n",
              "      <td>1</td>\n",
              "      <td>69</td>\n",
              "      <td>1</td>\n",
              "      <td>203</td>\n",
              "      <td>0</td>\n",
              "      <td>4</td>\n",
              "      <td>0</td>\n",
              "    </tr>\n",
              "    <tr>\n",
              "      <th>16</th>\n",
              "      <td>35</td>\n",
              "      <td>2</td>\n",
              "      <td>0</td>\n",
              "      <td>0</td>\n",
              "      <td>0</td>\n",
              "      <td>0</td>\n",
              "      <td>0</td>\n",
              "      <td>0</td>\n",
              "      <td>0</td>\n",
              "      <td>0</td>\n",
              "      <td>0</td>\n",
              "      <td>0</td>\n",
              "      <td>0</td>\n",
              "      <td>0</td>\n",
              "      <td>0</td>\n",
              "      <td>0</td>\n",
              "      <td>1</td>\n",
              "      <td>107</td>\n",
              "      <td>1</td>\n",
              "      <td>19</td>\n",
              "      <td>1</td>\n",
              "      <td>199</td>\n",
              "      <td>1</td>\n",
              "      <td>40</td>\n",
              "      <td>1</td>\n",
              "      <td>197</td>\n",
              "      <td>0</td>\n",
              "      <td>4</td>\n",
              "      <td>1</td>\n",
              "    </tr>\n",
              "    <tr>\n",
              "      <th>17</th>\n",
              "      <td>59</td>\n",
              "      <td>0</td>\n",
              "      <td>0</td>\n",
              "      <td>0</td>\n",
              "      <td>0</td>\n",
              "      <td>0</td>\n",
              "      <td>0</td>\n",
              "      <td>0</td>\n",
              "      <td>0</td>\n",
              "      <td>0</td>\n",
              "      <td>0</td>\n",
              "      <td>0</td>\n",
              "      <td>0</td>\n",
              "      <td>0</td>\n",
              "      <td>0</td>\n",
              "      <td>0</td>\n",
              "      <td>1</td>\n",
              "      <td>110</td>\n",
              "      <td>1</td>\n",
              "      <td>12</td>\n",
              "      <td>1</td>\n",
              "      <td>19</td>\n",
              "      <td>1</td>\n",
              "      <td>51</td>\n",
              "      <td>1</td>\n",
              "      <td>23</td>\n",
              "      <td>0</td>\n",
              "      <td>3</td>\n",
              "      <td>1</td>\n",
              "    </tr>\n",
              "    <tr>\n",
              "      <th>18</th>\n",
              "      <td>78</td>\n",
              "      <td>0</td>\n",
              "      <td>0</td>\n",
              "      <td>0</td>\n",
              "      <td>0</td>\n",
              "      <td>0</td>\n",
              "      <td>0</td>\n",
              "      <td>0</td>\n",
              "      <td>0</td>\n",
              "      <td>0</td>\n",
              "      <td>0</td>\n",
              "      <td>0</td>\n",
              "      <td>0</td>\n",
              "      <td>0</td>\n",
              "      <td>0</td>\n",
              "      <td>1</td>\n",
              "      <td>1</td>\n",
              "      <td>220</td>\n",
              "      <td>1</td>\n",
              "      <td>17</td>\n",
              "      <td>1</td>\n",
              "      <td>229</td>\n",
              "      <td>1</td>\n",
              "      <td>50</td>\n",
              "      <td>1</td>\n",
              "      <td>5</td>\n",
              "      <td>0</td>\n",
              "      <td>3</td>\n",
              "      <td>1</td>\n",
              "    </tr>\n",
              "    <tr>\n",
              "      <th>19</th>\n",
              "      <td>20</td>\n",
              "      <td>1</td>\n",
              "      <td>0</td>\n",
              "      <td>0</td>\n",
              "      <td>0</td>\n",
              "      <td>0</td>\n",
              "      <td>0</td>\n",
              "      <td>0</td>\n",
              "      <td>0</td>\n",
              "      <td>0</td>\n",
              "      <td>0</td>\n",
              "      <td>0</td>\n",
              "      <td>0</td>\n",
              "      <td>0</td>\n",
              "      <td>0</td>\n",
              "      <td>1</td>\n",
              "      <td>1</td>\n",
              "      <td>147</td>\n",
              "      <td>1</td>\n",
              "      <td>28</td>\n",
              "      <td>1</td>\n",
              "      <td>24</td>\n",
              "      <td>1</td>\n",
              "      <td>48</td>\n",
              "      <td>1</td>\n",
              "      <td>33</td>\n",
              "      <td>0</td>\n",
              "      <td>1</td>\n",
              "      <td>1</td>\n",
              "    </tr>\n",
              "  </tbody>\n",
              "</table>\n",
              "</div>\n",
              "      <button class=\"colab-df-convert\" onclick=\"convertToInteractive('df-4aadd078-9ba3-4310-9692-6c759c833ed3')\"\n",
              "              title=\"Convert this dataframe to an interactive table.\"\n",
              "              style=\"display:none;\">\n",
              "        \n",
              "  <svg xmlns=\"http://www.w3.org/2000/svg\" height=\"24px\"viewBox=\"0 0 24 24\"\n",
              "       width=\"24px\">\n",
              "    <path d=\"M0 0h24v24H0V0z\" fill=\"none\"/>\n",
              "    <path d=\"M18.56 5.44l.94 2.06.94-2.06 2.06-.94-2.06-.94-.94-2.06-.94 2.06-2.06.94zm-11 1L8.5 8.5l.94-2.06 2.06-.94-2.06-.94L8.5 2.5l-.94 2.06-2.06.94zm10 10l.94 2.06.94-2.06 2.06-.94-2.06-.94-.94-2.06-.94 2.06-2.06.94z\"/><path d=\"M17.41 7.96l-1.37-1.37c-.4-.4-.92-.59-1.43-.59-.52 0-1.04.2-1.43.59L10.3 9.45l-7.72 7.72c-.78.78-.78 2.05 0 2.83L4 21.41c.39.39.9.59 1.41.59.51 0 1.02-.2 1.41-.59l7.78-7.78 2.81-2.81c.8-.78.8-2.07 0-2.86zM5.41 20L4 18.59l7.72-7.72 1.47 1.35L5.41 20z\"/>\n",
              "  </svg>\n",
              "      </button>\n",
              "      \n",
              "  <style>\n",
              "    .colab-df-container {\n",
              "      display:flex;\n",
              "      flex-wrap:wrap;\n",
              "      gap: 12px;\n",
              "    }\n",
              "\n",
              "    .colab-df-convert {\n",
              "      background-color: #E8F0FE;\n",
              "      border: none;\n",
              "      border-radius: 50%;\n",
              "      cursor: pointer;\n",
              "      display: none;\n",
              "      fill: #1967D2;\n",
              "      height: 32px;\n",
              "      padding: 0 0 0 0;\n",
              "      width: 32px;\n",
              "    }\n",
              "\n",
              "    .colab-df-convert:hover {\n",
              "      background-color: #E2EBFA;\n",
              "      box-shadow: 0px 1px 2px rgba(60, 64, 67, 0.3), 0px 1px 3px 1px rgba(60, 64, 67, 0.15);\n",
              "      fill: #174EA6;\n",
              "    }\n",
              "\n",
              "    [theme=dark] .colab-df-convert {\n",
              "      background-color: #3B4455;\n",
              "      fill: #D2E3FC;\n",
              "    }\n",
              "\n",
              "    [theme=dark] .colab-df-convert:hover {\n",
              "      background-color: #434B5C;\n",
              "      box-shadow: 0px 1px 3px 1px rgba(0, 0, 0, 0.15);\n",
              "      filter: drop-shadow(0px 1px 2px rgba(0, 0, 0, 0.3));\n",
              "      fill: #FFFFFF;\n",
              "    }\n",
              "  </style>\n",
              "\n",
              "      <script>\n",
              "        const buttonEl =\n",
              "          document.querySelector('#df-4aadd078-9ba3-4310-9692-6c759c833ed3 button.colab-df-convert');\n",
              "        buttonEl.style.display =\n",
              "          google.colab.kernel.accessAllowed ? 'block' : 'none';\n",
              "\n",
              "        async function convertToInteractive(key) {\n",
              "          const element = document.querySelector('#df-4aadd078-9ba3-4310-9692-6c759c833ed3');\n",
              "          const dataTable =\n",
              "            await google.colab.kernel.invokeFunction('convertToInteractive',\n",
              "                                                     [key], {});\n",
              "          if (!dataTable) return;\n",
              "\n",
              "          const docLinkHtml = 'Like what you see? Visit the ' +\n",
              "            '<a target=\"_blank\" href=https://colab.research.google.com/notebooks/data_table.ipynb>data table notebook</a>'\n",
              "            + ' to learn more about interactive tables.';\n",
              "          element.innerHTML = '';\n",
              "          dataTable['output_type'] = 'display_data';\n",
              "          await google.colab.output.renderOutput(dataTable, element);\n",
              "          const docLink = document.createElement('div');\n",
              "          docLink.innerHTML = docLinkHtml;\n",
              "          element.appendChild(docLink);\n",
              "        }\n",
              "      </script>\n",
              "    </div>\n",
              "  </div>\n",
              "  "
            ]
          },
          "metadata": {},
          "execution_count": 23
        }
      ]
    },
    {
      "cell_type": "markdown",
      "source": [
        "# **Splitting the data**"
      ],
      "metadata": {
        "id": "bHbWvbrusVdA"
      }
    },
    {
      "cell_type": "code",
      "source": [
        "#Splitting the database into supporting or non supporting variable \n",
        "x=Thyroid_data.iloc[:,:-1]\n",
        "y= Thyroid_data['binaryClass']"
      ],
      "metadata": {
        "id": "VEroEycboLz6"
      },
      "execution_count": 24,
      "outputs": []
    },
    {
      "cell_type": "code",
      "source": [
        "x.shape # to get the shape of dependent variable "
      ],
      "metadata": {
        "colab": {
          "base_uri": "https://localhost:8080/"
        },
        "id": "Xeg-T6_CoL2l",
        "outputId": "b756ae41-f1a3-4d4d-90a0-e38010c12077"
      },
      "execution_count": 25,
      "outputs": [
        {
          "output_type": "execute_result",
          "data": {
            "text/plain": [
              "(3163, 28)"
            ]
          },
          "metadata": {},
          "execution_count": 25
        }
      ]
    },
    {
      "cell_type": "code",
      "source": [
        "y.shape  # to get the shape of independent varaible "
      ],
      "metadata": {
        "colab": {
          "base_uri": "https://localhost:8080/"
        },
        "id": "uFi_fNQEoL5J",
        "outputId": "21616c5c-d961-4989-e5c6-b34804d1ae1d"
      },
      "execution_count": 26,
      "outputs": [
        {
          "output_type": "execute_result",
          "data": {
            "text/plain": [
              "(3163,)"
            ]
          },
          "metadata": {},
          "execution_count": 26
        }
      ]
    },
    {
      "cell_type": "markdown",
      "source": [
        "# **Feature Selection**"
      ],
      "metadata": {
        "id": "JVC5Sz6islzb"
      }
    },
    {
      "cell_type": "code",
      "source": [
        "# importing feature selection library\n",
        "from sklearn.feature_selection import SelectKBest\n",
        "# importing chi2 technique \n",
        "from sklearn.feature_selection import chi2"
      ],
      "metadata": {
        "id": "NGpVfXQzsj7F"
      },
      "execution_count": 27,
      "outputs": []
    },
    {
      "cell_type": "code",
      "source": [
        "##Apply selectKBest Algorithm\n",
        "ordered_rank_feature = SelectKBest(score_func=chi2,k=10)\n",
        "# fitting the technique \n",
        "ordered_feature = ordered_rank_feature.fit(x,y)\n",
        "ordered_feature "
      ],
      "metadata": {
        "colab": {
          "base_uri": "https://localhost:8080/"
        },
        "id": "7R0sfLZLtAwR",
        "outputId": "99864833-3fb6-4a05-f66e-8614d24a9490"
      },
      "execution_count": 28,
      "outputs": [
        {
          "output_type": "execute_result",
          "data": {
            "text/plain": [
              "SelectKBest(score_func=<function chi2 at 0x7f1dfcffdb90>)"
            ]
          },
          "metadata": {},
          "execution_count": 28
        }
      ]
    },
    {
      "cell_type": "code",
      "source": [
        "# initializing the variable of the ffeature selection\n",
        "dfscores=pd.DataFrame(ordered_feature.scores_,columns=['Score'])\n",
        "dfcolumns=pd.DataFrame(x.columns)"
      ],
      "metadata": {
        "id": "jx0hXlhjtAy2"
      },
      "execution_count": 29,
      "outputs": []
    },
    {
      "cell_type": "code",
      "source": [
        "features_rank = pd.concat([dfcolumns,dfscores],axis=1)\n",
        "# to get the rank of the different attributes "
      ],
      "metadata": {
        "id": "rN9BiZljtA1z"
      },
      "execution_count": 30,
      "outputs": []
    },
    {
      "cell_type": "code",
      "source": [
        "features_rank.columns=['Features','Score']\n",
        "# to print the features with dependency score  \n",
        "features_rank"
      ],
      "metadata": {
        "id": "kF_sk4JKtA4e",
        "colab": {
          "base_uri": "https://localhost:8080/",
          "height": 927
        },
        "outputId": "d8673a83-abc8-4b05-ac60-b4f92f3db1ff"
      },
      "execution_count": 31,
      "outputs": [
        {
          "output_type": "execute_result",
          "data": {
            "text/plain": [
              "                     Features        Score\n",
              "0                         age     0.057767\n",
              "1                         sex     2.087957\n",
              "2                on thyroxine    16.715271\n",
              "3          query on thyroxine     0.069362\n",
              "4   on antithyroid medication     1.453012\n",
              "5                        sick     0.233073\n",
              "6                    pregnant     3.594382\n",
              "7             thyroid surgery     0.514212\n",
              "8              I131 treatment     0.181076\n",
              "9           query hypothyroid    17.544456\n",
              "10         query hyperthyroid     1.502506\n",
              "11                    lithium     0.023121\n",
              "12                     goitre     2.507708\n",
              "13                      tumor     0.120565\n",
              "14              hypopituitary     0.083590\n",
              "15                      psych     2.117666\n",
              "16               TSH measured     2.971171\n",
              "17                        TSH  9380.870982\n",
              "18                T3 measured     0.339627\n",
              "19                         T3   311.717285\n",
              "20               TT4 measured     0.523390\n",
              "21                        TT4  2183.888608\n",
              "22               T4U measured     0.064702\n",
              "23                        T4U     0.786849\n",
              "24               FTI measured     0.059250\n",
              "25                        FTI  3131.071398\n",
              "26               TBG measured          NaN\n",
              "27            referral source     1.462355"
            ],
            "text/html": [
              "\n",
              "  <div id=\"df-79ee7203-d697-453f-b9ba-65c37e19b8c9\">\n",
              "    <div class=\"colab-df-container\">\n",
              "      <div>\n",
              "<style scoped>\n",
              "    .dataframe tbody tr th:only-of-type {\n",
              "        vertical-align: middle;\n",
              "    }\n",
              "\n",
              "    .dataframe tbody tr th {\n",
              "        vertical-align: top;\n",
              "    }\n",
              "\n",
              "    .dataframe thead th {\n",
              "        text-align: right;\n",
              "    }\n",
              "</style>\n",
              "<table border=\"1\" class=\"dataframe\">\n",
              "  <thead>\n",
              "    <tr style=\"text-align: right;\">\n",
              "      <th></th>\n",
              "      <th>Features</th>\n",
              "      <th>Score</th>\n",
              "    </tr>\n",
              "  </thead>\n",
              "  <tbody>\n",
              "    <tr>\n",
              "      <th>0</th>\n",
              "      <td>age</td>\n",
              "      <td>0.057767</td>\n",
              "    </tr>\n",
              "    <tr>\n",
              "      <th>1</th>\n",
              "      <td>sex</td>\n",
              "      <td>2.087957</td>\n",
              "    </tr>\n",
              "    <tr>\n",
              "      <th>2</th>\n",
              "      <td>on thyroxine</td>\n",
              "      <td>16.715271</td>\n",
              "    </tr>\n",
              "    <tr>\n",
              "      <th>3</th>\n",
              "      <td>query on thyroxine</td>\n",
              "      <td>0.069362</td>\n",
              "    </tr>\n",
              "    <tr>\n",
              "      <th>4</th>\n",
              "      <td>on antithyroid medication</td>\n",
              "      <td>1.453012</td>\n",
              "    </tr>\n",
              "    <tr>\n",
              "      <th>5</th>\n",
              "      <td>sick</td>\n",
              "      <td>0.233073</td>\n",
              "    </tr>\n",
              "    <tr>\n",
              "      <th>6</th>\n",
              "      <td>pregnant</td>\n",
              "      <td>3.594382</td>\n",
              "    </tr>\n",
              "    <tr>\n",
              "      <th>7</th>\n",
              "      <td>thyroid surgery</td>\n",
              "      <td>0.514212</td>\n",
              "    </tr>\n",
              "    <tr>\n",
              "      <th>8</th>\n",
              "      <td>I131 treatment</td>\n",
              "      <td>0.181076</td>\n",
              "    </tr>\n",
              "    <tr>\n",
              "      <th>9</th>\n",
              "      <td>query hypothyroid</td>\n",
              "      <td>17.544456</td>\n",
              "    </tr>\n",
              "    <tr>\n",
              "      <th>10</th>\n",
              "      <td>query hyperthyroid</td>\n",
              "      <td>1.502506</td>\n",
              "    </tr>\n",
              "    <tr>\n",
              "      <th>11</th>\n",
              "      <td>lithium</td>\n",
              "      <td>0.023121</td>\n",
              "    </tr>\n",
              "    <tr>\n",
              "      <th>12</th>\n",
              "      <td>goitre</td>\n",
              "      <td>2.507708</td>\n",
              "    </tr>\n",
              "    <tr>\n",
              "      <th>13</th>\n",
              "      <td>tumor</td>\n",
              "      <td>0.120565</td>\n",
              "    </tr>\n",
              "    <tr>\n",
              "      <th>14</th>\n",
              "      <td>hypopituitary</td>\n",
              "      <td>0.083590</td>\n",
              "    </tr>\n",
              "    <tr>\n",
              "      <th>15</th>\n",
              "      <td>psych</td>\n",
              "      <td>2.117666</td>\n",
              "    </tr>\n",
              "    <tr>\n",
              "      <th>16</th>\n",
              "      <td>TSH measured</td>\n",
              "      <td>2.971171</td>\n",
              "    </tr>\n",
              "    <tr>\n",
              "      <th>17</th>\n",
              "      <td>TSH</td>\n",
              "      <td>9380.870982</td>\n",
              "    </tr>\n",
              "    <tr>\n",
              "      <th>18</th>\n",
              "      <td>T3 measured</td>\n",
              "      <td>0.339627</td>\n",
              "    </tr>\n",
              "    <tr>\n",
              "      <th>19</th>\n",
              "      <td>T3</td>\n",
              "      <td>311.717285</td>\n",
              "    </tr>\n",
              "    <tr>\n",
              "      <th>20</th>\n",
              "      <td>TT4 measured</td>\n",
              "      <td>0.523390</td>\n",
              "    </tr>\n",
              "    <tr>\n",
              "      <th>21</th>\n",
              "      <td>TT4</td>\n",
              "      <td>2183.888608</td>\n",
              "    </tr>\n",
              "    <tr>\n",
              "      <th>22</th>\n",
              "      <td>T4U measured</td>\n",
              "      <td>0.064702</td>\n",
              "    </tr>\n",
              "    <tr>\n",
              "      <th>23</th>\n",
              "      <td>T4U</td>\n",
              "      <td>0.786849</td>\n",
              "    </tr>\n",
              "    <tr>\n",
              "      <th>24</th>\n",
              "      <td>FTI measured</td>\n",
              "      <td>0.059250</td>\n",
              "    </tr>\n",
              "    <tr>\n",
              "      <th>25</th>\n",
              "      <td>FTI</td>\n",
              "      <td>3131.071398</td>\n",
              "    </tr>\n",
              "    <tr>\n",
              "      <th>26</th>\n",
              "      <td>TBG measured</td>\n",
              "      <td>NaN</td>\n",
              "    </tr>\n",
              "    <tr>\n",
              "      <th>27</th>\n",
              "      <td>referral source</td>\n",
              "      <td>1.462355</td>\n",
              "    </tr>\n",
              "  </tbody>\n",
              "</table>\n",
              "</div>\n",
              "      <button class=\"colab-df-convert\" onclick=\"convertToInteractive('df-79ee7203-d697-453f-b9ba-65c37e19b8c9')\"\n",
              "              title=\"Convert this dataframe to an interactive table.\"\n",
              "              style=\"display:none;\">\n",
              "        \n",
              "  <svg xmlns=\"http://www.w3.org/2000/svg\" height=\"24px\"viewBox=\"0 0 24 24\"\n",
              "       width=\"24px\">\n",
              "    <path d=\"M0 0h24v24H0V0z\" fill=\"none\"/>\n",
              "    <path d=\"M18.56 5.44l.94 2.06.94-2.06 2.06-.94-2.06-.94-.94-2.06-.94 2.06-2.06.94zm-11 1L8.5 8.5l.94-2.06 2.06-.94-2.06-.94L8.5 2.5l-.94 2.06-2.06.94zm10 10l.94 2.06.94-2.06 2.06-.94-2.06-.94-.94-2.06-.94 2.06-2.06.94z\"/><path d=\"M17.41 7.96l-1.37-1.37c-.4-.4-.92-.59-1.43-.59-.52 0-1.04.2-1.43.59L10.3 9.45l-7.72 7.72c-.78.78-.78 2.05 0 2.83L4 21.41c.39.39.9.59 1.41.59.51 0 1.02-.2 1.41-.59l7.78-7.78 2.81-2.81c.8-.78.8-2.07 0-2.86zM5.41 20L4 18.59l7.72-7.72 1.47 1.35L5.41 20z\"/>\n",
              "  </svg>\n",
              "      </button>\n",
              "      \n",
              "  <style>\n",
              "    .colab-df-container {\n",
              "      display:flex;\n",
              "      flex-wrap:wrap;\n",
              "      gap: 12px;\n",
              "    }\n",
              "\n",
              "    .colab-df-convert {\n",
              "      background-color: #E8F0FE;\n",
              "      border: none;\n",
              "      border-radius: 50%;\n",
              "      cursor: pointer;\n",
              "      display: none;\n",
              "      fill: #1967D2;\n",
              "      height: 32px;\n",
              "      padding: 0 0 0 0;\n",
              "      width: 32px;\n",
              "    }\n",
              "\n",
              "    .colab-df-convert:hover {\n",
              "      background-color: #E2EBFA;\n",
              "      box-shadow: 0px 1px 2px rgba(60, 64, 67, 0.3), 0px 1px 3px 1px rgba(60, 64, 67, 0.15);\n",
              "      fill: #174EA6;\n",
              "    }\n",
              "\n",
              "    [theme=dark] .colab-df-convert {\n",
              "      background-color: #3B4455;\n",
              "      fill: #D2E3FC;\n",
              "    }\n",
              "\n",
              "    [theme=dark] .colab-df-convert:hover {\n",
              "      background-color: #434B5C;\n",
              "      box-shadow: 0px 1px 3px 1px rgba(0, 0, 0, 0.15);\n",
              "      filter: drop-shadow(0px 1px 2px rgba(0, 0, 0, 0.3));\n",
              "      fill: #FFFFFF;\n",
              "    }\n",
              "  </style>\n",
              "\n",
              "      <script>\n",
              "        const buttonEl =\n",
              "          document.querySelector('#df-79ee7203-d697-453f-b9ba-65c37e19b8c9 button.colab-df-convert');\n",
              "        buttonEl.style.display =\n",
              "          google.colab.kernel.accessAllowed ? 'block' : 'none';\n",
              "\n",
              "        async function convertToInteractive(key) {\n",
              "          const element = document.querySelector('#df-79ee7203-d697-453f-b9ba-65c37e19b8c9');\n",
              "          const dataTable =\n",
              "            await google.colab.kernel.invokeFunction('convertToInteractive',\n",
              "                                                     [key], {});\n",
              "          if (!dataTable) return;\n",
              "\n",
              "          const docLinkHtml = 'Like what you see? Visit the ' +\n",
              "            '<a target=\"_blank\" href=https://colab.research.google.com/notebooks/data_table.ipynb>data table notebook</a>'\n",
              "            + ' to learn more about interactive tables.';\n",
              "          element.innerHTML = '';\n",
              "          dataTable['output_type'] = 'display_data';\n",
              "          await google.colab.output.renderOutput(dataTable, element);\n",
              "          const docLink = document.createElement('div');\n",
              "          docLink.innerHTML = docLinkHtml;\n",
              "          element.appendChild(docLink);\n",
              "        }\n",
              "      </script>\n",
              "    </div>\n",
              "  </div>\n",
              "  "
            ]
          },
          "metadata": {},
          "execution_count": 31
        }
      ]
    },
    {
      "cell_type": "code",
      "source": [
        "features_rank.nlargest(10,'Score') \n",
        "# to get best ten rank attributes "
      ],
      "metadata": {
        "id": "_j7K_XretA7S",
        "colab": {
          "base_uri": "https://localhost:8080/",
          "height": 363
        },
        "outputId": "9f71a33a-f679-48de-dd7c-dbd6bffed5f7"
      },
      "execution_count": 32,
      "outputs": [
        {
          "output_type": "execute_result",
          "data": {
            "text/plain": [
              "             Features        Score\n",
              "17                TSH  9380.870982\n",
              "25                FTI  3131.071398\n",
              "21                TT4  2183.888608\n",
              "19                 T3   311.717285\n",
              "9   query hypothyroid    17.544456\n",
              "2        on thyroxine    16.715271\n",
              "6            pregnant     3.594382\n",
              "16       TSH measured     2.971171\n",
              "12             goitre     2.507708\n",
              "15              psych     2.117666"
            ],
            "text/html": [
              "\n",
              "  <div id=\"df-36f023a6-28cd-40c3-9cb6-7d5634c7f2ac\">\n",
              "    <div class=\"colab-df-container\">\n",
              "      <div>\n",
              "<style scoped>\n",
              "    .dataframe tbody tr th:only-of-type {\n",
              "        vertical-align: middle;\n",
              "    }\n",
              "\n",
              "    .dataframe tbody tr th {\n",
              "        vertical-align: top;\n",
              "    }\n",
              "\n",
              "    .dataframe thead th {\n",
              "        text-align: right;\n",
              "    }\n",
              "</style>\n",
              "<table border=\"1\" class=\"dataframe\">\n",
              "  <thead>\n",
              "    <tr style=\"text-align: right;\">\n",
              "      <th></th>\n",
              "      <th>Features</th>\n",
              "      <th>Score</th>\n",
              "    </tr>\n",
              "  </thead>\n",
              "  <tbody>\n",
              "    <tr>\n",
              "      <th>17</th>\n",
              "      <td>TSH</td>\n",
              "      <td>9380.870982</td>\n",
              "    </tr>\n",
              "    <tr>\n",
              "      <th>25</th>\n",
              "      <td>FTI</td>\n",
              "      <td>3131.071398</td>\n",
              "    </tr>\n",
              "    <tr>\n",
              "      <th>21</th>\n",
              "      <td>TT4</td>\n",
              "      <td>2183.888608</td>\n",
              "    </tr>\n",
              "    <tr>\n",
              "      <th>19</th>\n",
              "      <td>T3</td>\n",
              "      <td>311.717285</td>\n",
              "    </tr>\n",
              "    <tr>\n",
              "      <th>9</th>\n",
              "      <td>query hypothyroid</td>\n",
              "      <td>17.544456</td>\n",
              "    </tr>\n",
              "    <tr>\n",
              "      <th>2</th>\n",
              "      <td>on thyroxine</td>\n",
              "      <td>16.715271</td>\n",
              "    </tr>\n",
              "    <tr>\n",
              "      <th>6</th>\n",
              "      <td>pregnant</td>\n",
              "      <td>3.594382</td>\n",
              "    </tr>\n",
              "    <tr>\n",
              "      <th>16</th>\n",
              "      <td>TSH measured</td>\n",
              "      <td>2.971171</td>\n",
              "    </tr>\n",
              "    <tr>\n",
              "      <th>12</th>\n",
              "      <td>goitre</td>\n",
              "      <td>2.507708</td>\n",
              "    </tr>\n",
              "    <tr>\n",
              "      <th>15</th>\n",
              "      <td>psych</td>\n",
              "      <td>2.117666</td>\n",
              "    </tr>\n",
              "  </tbody>\n",
              "</table>\n",
              "</div>\n",
              "      <button class=\"colab-df-convert\" onclick=\"convertToInteractive('df-36f023a6-28cd-40c3-9cb6-7d5634c7f2ac')\"\n",
              "              title=\"Convert this dataframe to an interactive table.\"\n",
              "              style=\"display:none;\">\n",
              "        \n",
              "  <svg xmlns=\"http://www.w3.org/2000/svg\" height=\"24px\"viewBox=\"0 0 24 24\"\n",
              "       width=\"24px\">\n",
              "    <path d=\"M0 0h24v24H0V0z\" fill=\"none\"/>\n",
              "    <path d=\"M18.56 5.44l.94 2.06.94-2.06 2.06-.94-2.06-.94-.94-2.06-.94 2.06-2.06.94zm-11 1L8.5 8.5l.94-2.06 2.06-.94-2.06-.94L8.5 2.5l-.94 2.06-2.06.94zm10 10l.94 2.06.94-2.06 2.06-.94-2.06-.94-.94-2.06-.94 2.06-2.06.94z\"/><path d=\"M17.41 7.96l-1.37-1.37c-.4-.4-.92-.59-1.43-.59-.52 0-1.04.2-1.43.59L10.3 9.45l-7.72 7.72c-.78.78-.78 2.05 0 2.83L4 21.41c.39.39.9.59 1.41.59.51 0 1.02-.2 1.41-.59l7.78-7.78 2.81-2.81c.8-.78.8-2.07 0-2.86zM5.41 20L4 18.59l7.72-7.72 1.47 1.35L5.41 20z\"/>\n",
              "  </svg>\n",
              "      </button>\n",
              "      \n",
              "  <style>\n",
              "    .colab-df-container {\n",
              "      display:flex;\n",
              "      flex-wrap:wrap;\n",
              "      gap: 12px;\n",
              "    }\n",
              "\n",
              "    .colab-df-convert {\n",
              "      background-color: #E8F0FE;\n",
              "      border: none;\n",
              "      border-radius: 50%;\n",
              "      cursor: pointer;\n",
              "      display: none;\n",
              "      fill: #1967D2;\n",
              "      height: 32px;\n",
              "      padding: 0 0 0 0;\n",
              "      width: 32px;\n",
              "    }\n",
              "\n",
              "    .colab-df-convert:hover {\n",
              "      background-color: #E2EBFA;\n",
              "      box-shadow: 0px 1px 2px rgba(60, 64, 67, 0.3), 0px 1px 3px 1px rgba(60, 64, 67, 0.15);\n",
              "      fill: #174EA6;\n",
              "    }\n",
              "\n",
              "    [theme=dark] .colab-df-convert {\n",
              "      background-color: #3B4455;\n",
              "      fill: #D2E3FC;\n",
              "    }\n",
              "\n",
              "    [theme=dark] .colab-df-convert:hover {\n",
              "      background-color: #434B5C;\n",
              "      box-shadow: 0px 1px 3px 1px rgba(0, 0, 0, 0.15);\n",
              "      filter: drop-shadow(0px 1px 2px rgba(0, 0, 0, 0.3));\n",
              "      fill: #FFFFFF;\n",
              "    }\n",
              "  </style>\n",
              "\n",
              "      <script>\n",
              "        const buttonEl =\n",
              "          document.querySelector('#df-36f023a6-28cd-40c3-9cb6-7d5634c7f2ac button.colab-df-convert');\n",
              "        buttonEl.style.display =\n",
              "          google.colab.kernel.accessAllowed ? 'block' : 'none';\n",
              "\n",
              "        async function convertToInteractive(key) {\n",
              "          const element = document.querySelector('#df-36f023a6-28cd-40c3-9cb6-7d5634c7f2ac');\n",
              "          const dataTable =\n",
              "            await google.colab.kernel.invokeFunction('convertToInteractive',\n",
              "                                                     [key], {});\n",
              "          if (!dataTable) return;\n",
              "\n",
              "          const docLinkHtml = 'Like what you see? Visit the ' +\n",
              "            '<a target=\"_blank\" href=https://colab.research.google.com/notebooks/data_table.ipynb>data table notebook</a>'\n",
              "            + ' to learn more about interactive tables.';\n",
              "          element.innerHTML = '';\n",
              "          dataTable['output_type'] = 'display_data';\n",
              "          await google.colab.output.renderOutput(dataTable, element);\n",
              "          const docLink = document.createElement('div');\n",
              "          docLink.innerHTML = docLinkHtml;\n",
              "          element.appendChild(docLink);\n",
              "        }\n",
              "      </script>\n",
              "    </div>\n",
              "  </div>\n",
              "  "
            ]
          },
          "metadata": {},
          "execution_count": 32
        }
      ]
    },
    {
      "cell_type": "code",
      "source": [
        "# to drop some least dependency attributes \n",
        "x = x.drop(['TBG measured','FTI measured','T4U measured','lithium','age','sex','query on thyroxine','hypopituitary'],axis=1)"
      ],
      "metadata": {
        "id": "f-y0sMgn_nge"
      },
      "execution_count": 33,
      "outputs": []
    },
    {
      "cell_type": "code",
      "source": [
        "# splitting the arrival database into fitting and testing \n",
        "from sklearn.model_selection import train_test_split\n",
        "# assigning the attributes \n",
        "X_train, X_test, Y_train, Y_test = train_test_split(x,y, test_size=0.3, random_state =42,  stratify=y ,shuffle=True) "
      ],
      "metadata": {
        "id": "uJRTlBobtA99"
      },
      "execution_count": 34,
      "outputs": []
    },
    {
      "cell_type": "code",
      "source": [
        "X_train.shape # to get the shape of xtrain"
      ],
      "metadata": {
        "colab": {
          "base_uri": "https://localhost:8080/"
        },
        "id": "sY5zrhFntBAr",
        "outputId": "f5ea9cc5-47f9-4814-8438-a1473c1ba0ea"
      },
      "execution_count": 35,
      "outputs": [
        {
          "output_type": "execute_result",
          "data": {
            "text/plain": [
              "(2214, 20)"
            ]
          },
          "metadata": {},
          "execution_count": 35
        }
      ]
    },
    {
      "cell_type": "code",
      "source": [
        "Y_train.shape  # to get the shape of ytrain"
      ],
      "metadata": {
        "colab": {
          "base_uri": "https://localhost:8080/"
        },
        "id": "RvtPrtRTtBDc",
        "outputId": "ccb649b7-1e75-4fb6-f9d4-2ee7897420ab"
      },
      "execution_count": 36,
      "outputs": [
        {
          "output_type": "execute_result",
          "data": {
            "text/plain": [
              "(2214,)"
            ]
          },
          "metadata": {},
          "execution_count": 36
        }
      ]
    },
    {
      "cell_type": "code",
      "source": [
        "X_test.shape #to get the shape of xtest attribute "
      ],
      "metadata": {
        "colab": {
          "base_uri": "https://localhost:8080/"
        },
        "id": "DwtocLDbu2Q0",
        "outputId": "4012ae9f-6c05-490a-dc19-002ba9a5b512"
      },
      "execution_count": 37,
      "outputs": [
        {
          "output_type": "execute_result",
          "data": {
            "text/plain": [
              "(949, 20)"
            ]
          },
          "metadata": {},
          "execution_count": 37
        }
      ]
    },
    {
      "cell_type": "code",
      "source": [
        "Y_test.shape # to get the shape of the ytest  variable "
      ],
      "metadata": {
        "colab": {
          "base_uri": "https://localhost:8080/"
        },
        "id": "iYQRhYpKu2Nf",
        "outputId": "706c3bb7-f994-4406-898b-fcaf8309d664"
      },
      "execution_count": 38,
      "outputs": [
        {
          "output_type": "execute_result",
          "data": {
            "text/plain": [
              "(949,)"
            ]
          },
          "metadata": {},
          "execution_count": 38
        }
      ]
    },
    {
      "cell_type": "markdown",
      "source": [
        "# **Model**"
      ],
      "metadata": {
        "id": "kGhVuzrov8A-"
      }
    },
    {
      "cell_type": "code",
      "source": [
        "# importing XGB classifier\n",
        "from xgboost import XGBClassifier\n",
        "from sklearn import metrics    \n",
        "# initializing the model\n",
        "model1 = XGBClassifier(max_depth=11, learning_rate=0.4)\n",
        "# fitting the model\n",
        "model1.fit(X_train, Y_train)\n",
        "# predict variable\n",
        "pred1 = model1.predict(X_test)\n",
        "# finding the accuracy\n",
        "print(metrics.accuracy_score( Y_test, pred1))"
      ],
      "metadata": {
        "colab": {
          "base_uri": "https://localhost:8080/"
        },
        "id": "25lp-4uOu2Kl",
        "outputId": "89cb4f86-2f06-45f2-ddff-971d0d1de3a5"
      },
      "execution_count": 39,
      "outputs": [
        {
          "output_type": "stream",
          "name": "stdout",
          "text": [
            "0.9884088514225501\n"
          ]
        }
      ]
    },
    {
      "cell_type": "code",
      "source": [
        "# importing cr , cm \n",
        "from sklearn.metrics import classification_report, confusion_matrix, accuracy_score\n",
        "# to print the cr\n",
        "print(classification_report(Y_test, pred1)) \n",
        "print()\n",
        "# reprinting the performance \n",
        "print('Accuracy: ', accuracy_score(Y_test, pred1))\n"
      ],
      "metadata": {
        "id": "UW7eNbb0u2H4",
        "colab": {
          "base_uri": "https://localhost:8080/"
        },
        "outputId": "b1d6025f-744f-4b8f-adca-942d49a3a837"
      },
      "execution_count": 40,
      "outputs": [
        {
          "output_type": "stream",
          "name": "stdout",
          "text": [
            "              precision    recall  f1-score   support\n",
            "\n",
            "           0       0.96      0.89      0.92        73\n",
            "           1       0.99      1.00      0.99       876\n",
            "\n",
            "    accuracy                           0.99       949\n",
            "   macro avg       0.97      0.94      0.96       949\n",
            "weighted avg       0.99      0.99      0.99       949\n",
            "\n",
            "\n",
            "Accuracy:  0.9884088514225501\n"
          ]
        }
      ]
    },
    {
      "cell_type": "code",
      "source": [
        "# various libraries for report\n",
        "from sklearn.metrics import precision_score,recall_score,f1_score\n",
        "# printing the performance \n",
        "print('Precision by XGB of testing data is: %.3f' % precision_score(Y_test, pred1,average='micro')) \n",
        "# checking the precision value\n",
        "print('Recall by XGB of testing data is: %.3f' % recall_score(Y_test, pred1,average='micro')) \n",
        "# checking the recall value\n",
        "print('F1 score by XGB of testing data is: %.3f' % f1_score(Y_test, pred1,average='micro')) \n",
        "# checking the f2 score"
      ],
      "metadata": {
        "id": "y-IyqZpnu2Dy",
        "colab": {
          "base_uri": "https://localhost:8080/"
        },
        "outputId": "feddbf9c-ba6b-48f2-9899-5f1af0f707e9"
      },
      "execution_count": 41,
      "outputs": [
        {
          "output_type": "stream",
          "name": "stdout",
          "text": [
            "Precision by XGB of testing data is: 0.988\n",
            "Recall by XGB of testing data is: 0.988\n",
            "F1 score by XGB of testing data is: 0.988\n"
          ]
        }
      ]
    },
    {
      "cell_type": "code",
      "source": [
        "# to import the cm \n",
        "from sklearn.metrics import confusion_matrix\n",
        "# initializing cm\n",
        "cm = confusion_matrix(Y_test,pred1)\n",
        "cm"
      ],
      "metadata": {
        "colab": {
          "base_uri": "https://localhost:8080/"
        },
        "id": "lpyIhbQku2BY",
        "outputId": "7b40332a-94e3-4bb2-ab99-a61dfea6d7b2"
      },
      "execution_count": 42,
      "outputs": [
        {
          "output_type": "execute_result",
          "data": {
            "text/plain": [
              "array([[ 65,   8],\n",
              "       [  3, 873]])"
            ]
          },
          "metadata": {},
          "execution_count": 42
        }
      ]
    },
    {
      "cell_type": "code",
      "source": [
        "# making heat map \n",
        "import seaborn as sns\n",
        "# assigning the color \n",
        "sns.heatmap(cm,annot=True, fmt='d' , cmap='Pastel1_r')\n",
        "# assigning the x-axis label\n",
        "plt.xlabel('Predicted values')\n",
        "# assigning the y-axis label\n",
        "plt.ylabel('Original Values')"
      ],
      "metadata": {
        "colab": {
          "base_uri": "https://localhost:8080/",
          "height": 296
        },
        "id": "IyVhXt9Eu1-v",
        "outputId": "9e28232a-0078-434a-b487-c06b380178ee"
      },
      "execution_count": 43,
      "outputs": [
        {
          "output_type": "execute_result",
          "data": {
            "text/plain": [
              "Text(33.0, 0.5, 'Original Values')"
            ]
          },
          "metadata": {},
          "execution_count": 43
        },
        {
          "output_type": "display_data",
          "data": {
            "text/plain": [
              "<Figure size 432x288 with 2 Axes>"
            ],
            "image/png": "[encoded data removed]"
          },
          "metadata": {
            "needs_background": "light"
          }
        }
      ]
    },
    {
      "cell_type": "code",
      "source": [
        "# printing Sensitivity accuracy \n",
        "sensitivity = cm[1,1]/(cm[1,1]+cm[1,0])\n",
        "# to get the score of senstivity\n",
        "print('Sensitivity : ', sensitivity)\n",
        "# printing Specificity accuracy \n",
        "specificity = cm[0,0]/(cm[0,1]+cm[0,0])\n",
        "# to get the score of specificity\n",
        "print('Specificity : ', specificity)"
      ],
      "metadata": {
        "colab": {
          "base_uri": "https://localhost:8080/"
        },
        "id": "Du-tdE0Gu18Q",
        "outputId": "b00134a3-da36-4ec7-a60d-671b48b46e33"
      },
      "execution_count": 44,
      "outputs": [
        {
          "output_type": "stream",
          "name": "stdout",
          "text": [
            "Sensitivity :  0.9965753424657534\n",
            "Specificity :  0.8904109589041096\n"
          ]
        }
      ]
    },
    {
      "cell_type": "markdown",
      "source": [
        "# **LGBM**"
      ],
      "metadata": {
        "id": "E2gIriLk9zzu"
      }
    },
    {
      "cell_type": "code",
      "source": [
        "# importing lightgbm classifier\n",
        "import lightgbm as lgb\n",
        "from lightgbm import LGBMClassifier\n",
        "# initializing the model\n",
        "model2 = LGBMClassifier()\n",
        "# fitting the model\n",
        "model2.fit(X_train, Y_train)\n",
        "# predict variable\n",
        "pred2 = model2.predict(X_test)\n",
        "# finding the accuracy\n",
        "print(metrics.accuracy_score( Y_test, pred2))"
      ],
      "metadata": {
        "colab": {
          "base_uri": "https://localhost:8080/"
        },
        "id": "qF8vEZKHu15o",
        "outputId": "9ccc1c42-ed94-4c61-d2d9-fc52ebac3122"
      },
      "execution_count": 45,
      "outputs": [
        {
          "output_type": "stream",
          "name": "stdout",
          "text": [
            "0.9905163329820864\n"
          ]
        }
      ]
    },
    {
      "cell_type": "code",
      "source": [
        "# importing cr , cm \n",
        "from sklearn.metrics import classification_report, confusion_matrix, accuracy_score\n",
        "# to get the cr\n",
        "print(classification_report(Y_test, pred2)) \n",
        "print()\n",
        "# reprinting the performance \n",
        "print('Accuracy: ', accuracy_score(Y_test, pred2))\n"
      ],
      "metadata": {
        "id": "CrpdXnF8-JKd",
        "colab": {
          "base_uri": "https://localhost:8080/"
        },
        "outputId": "7a30d9a7-4fdd-467c-f391-5a2cc8ecc3c1"
      },
      "execution_count": 46,
      "outputs": [
        {
          "output_type": "stream",
          "name": "stdout",
          "text": [
            "              precision    recall  f1-score   support\n",
            "\n",
            "           0       0.97      0.90      0.94        73\n",
            "           1       0.99      1.00      0.99       876\n",
            "\n",
            "    accuracy                           0.99       949\n",
            "   macro avg       0.98      0.95      0.97       949\n",
            "weighted avg       0.99      0.99      0.99       949\n",
            "\n",
            "\n",
            "Accuracy:  0.9905163329820864\n"
          ]
        }
      ]
    },
    {
      "cell_type": "code",
      "source": [
        "# various libraries for report\n",
        "from sklearn.metrics import precision_score,recall_score,f1_score\n",
        "# printing the performance \n",
        "print('Precision by LGBM of testing data is: %.3f' % precision_score(Y_test, pred2,average='micro')) \n",
        "# checking the precision value\n",
        "print('Recall by LGBM of testing data is: %.3f' % recall_score(Y_test, pred2,average='micro')) \n",
        "# checking the recall value\n",
        "print('F1 score by LGBM of testing data is: %.3f' % f1_score(Y_test, pred2,average='micro')) \n",
        "# checking the f2 score"
      ],
      "metadata": {
        "id": "Rlf_7Qku-JKf",
        "colab": {
          "base_uri": "https://localhost:8080/"
        },
        "outputId": "f12c726c-662f-4684-cbb2-846a0fe31f4b"
      },
      "execution_count": 47,
      "outputs": [
        {
          "output_type": "stream",
          "name": "stdout",
          "text": [
            "Precision by LGBM of testing data is: 0.991\n",
            "Recall by LGBM of testing data is: 0.991\n",
            "F1 score by LGBM of testing data is: 0.991\n"
          ]
        }
      ]
    },
    {
      "cell_type": "code",
      "source": [
        "# importing cm\n",
        "from sklearn.metrics import confusion_matrix\n",
        "# initializing cm\n",
        "cm1 = confusion_matrix(Y_test,pred2)\n",
        "cm1"
      ],
      "metadata": {
        "colab": {
          "base_uri": "https://localhost:8080/"
        },
        "outputId": "922eef44-da17-469f-bfc6-e0de831e18fd",
        "id": "lsKN6evu-JKg"
      },
      "execution_count": 48,
      "outputs": [
        {
          "output_type": "execute_result",
          "data": {
            "text/plain": [
              "array([[ 66,   7],\n",
              "       [  2, 874]])"
            ]
          },
          "metadata": {},
          "execution_count": 48
        }
      ]
    },
    {
      "cell_type": "code",
      "source": [
        "# making heat map \n",
        "import seaborn as sns\n",
        "# assigning the color \n",
        "sns.heatmap(cm1,annot=True, fmt='d' , cmap='Pastel2_r')\n",
        "# assigning the x-axis label\n",
        "plt.xlabel('Predicted values')\n",
        "# assigning the y-axis label\n",
        "plt.ylabel('Original Values')"
      ],
      "metadata": {
        "colab": {
          "base_uri": "https://localhost:8080/",
          "height": 296
        },
        "outputId": "a64f8949-c9c4-4830-e636-91bb7ef3f09d",
        "id": "h12c61j1-JKg"
      },
      "execution_count": 49,
      "outputs": [
        {
          "output_type": "execute_result",
          "data": {
            "text/plain": [
              "Text(33.0, 0.5, 'Original Values')"
            ]
          },
          "metadata": {},
          "execution_count": 49
        },
        {
          "output_type": "display_data",
          "data": {
            "text/plain": [
              "<Figure size 432x288 with 2 Axes>"
            ],
            "image/png": "[encoded data removed]"
          },
          "metadata": {
            "needs_background": "light"
          }
        }
      ]
    },
    {
      "cell_type": "code",
      "source": [
        "# printing Sensitivity accuracy \n",
        "sensitivity = cm1[1,1]/(cm1[1,1]+cm1[1,0])\n",
        "# to get the score of senstivity\n",
        "print('Sensitivity : ', sensitivity)\n",
        "# printing Specificity accuracy \n",
        "specificity = cm1[0,0]/(cm1[0,1]+cm1[0,0])\n",
        "# to get the score of the specificity\n",
        "print('Specificity : ', specificity)"
      ],
      "metadata": {
        "colab": {
          "base_uri": "https://localhost:8080/"
        },
        "outputId": "faf2fdc6-a644-425f-a023-efe4b04ccfbb",
        "id": "atZr6ols-JKh"
      },
      "execution_count": 50,
      "outputs": [
        {
          "output_type": "stream",
          "name": "stdout",
          "text": [
            "Sensitivity :  0.997716894977169\n",
            "Specificity :  0.9041095890410958\n"
          ]
        }
      ]
    },
    {
      "cell_type": "markdown",
      "source": [
        "# **ADABOOST**"
      ],
      "metadata": {
        "id": "AkuS7SH093bd"
      }
    },
    {
      "cell_type": "code",
      "source": [
        "#importing the model\n",
        "from sklearn.ensemble import RandomForestClassifier\n",
        "# initializing the algo\n",
        "tree = RandomForestClassifier()"
      ],
      "metadata": {
        "id": "tLSyn7sku120"
      },
      "execution_count": 51,
      "outputs": []
    },
    {
      "cell_type": "code",
      "source": [
        "# importing the AdaBoostClassifier\n",
        "from sklearn.ensemble import AdaBoostClassifier\n",
        "# initializing the model\n",
        "model3 = AdaBoostClassifier(base_estimator=tree)\n",
        "# fitting the model\n",
        "model3.fit(X_train, Y_train)\n",
        "# prediction variable\n",
        "pred3 = model3.predict(X_test)\n",
        "# finding the accuracy\n",
        "print(metrics.accuracy_score( Y_test, pred3))"
      ],
      "metadata": {
        "colab": {
          "base_uri": "https://localhost:8080/"
        },
        "id": "vX1tkkMQu1z7",
        "outputId": "f52e0167-4653-4516-b2a2-a25e6b9e78a7"
      },
      "execution_count": 52,
      "outputs": [
        {
          "output_type": "stream",
          "name": "stdout",
          "text": [
            "0.9747102212855637\n"
          ]
        }
      ]
    },
    {
      "cell_type": "code",
      "source": [
        "# importing cr , cm \n",
        "from sklearn.metrics import classification_report, confusion_matrix, accuracy_score\n",
        "# to print the cr \n",
        "print(classification_report(Y_test, pred3)) \n",
        "print()\n",
        "# reprinting the performance \n",
        "print('Accuracy: ', accuracy_score(Y_test, pred3))\n"
      ],
      "metadata": {
        "id": "7KGJ1rjN-KW3",
        "colab": {
          "base_uri": "https://localhost:8080/"
        },
        "outputId": "5b33195d-04bd-49b7-aec1-134591d0e4b0"
      },
      "execution_count": 53,
      "outputs": [
        {
          "output_type": "stream",
          "name": "stdout",
          "text": [
            "              precision    recall  f1-score   support\n",
            "\n",
            "           0       0.90      0.75      0.82        73\n",
            "           1       0.98      0.99      0.99       876\n",
            "\n",
            "    accuracy                           0.97       949\n",
            "   macro avg       0.94      0.87      0.90       949\n",
            "weighted avg       0.97      0.97      0.97       949\n",
            "\n",
            "\n",
            "Accuracy:  0.9747102212855637\n"
          ]
        }
      ]
    },
    {
      "cell_type": "code",
      "source": [
        "# various libraries for report\n",
        "from sklearn.metrics import precision_score,recall_score,f1_score\n",
        "# printing the performance \n",
        "print('Precision by AdaBoost of testing data is: %.3f' % precision_score(Y_test, pred3,average='micro')) \n",
        "# checking the precision value\n",
        "print('Recall by AdaBoost of testing data is: %.3f' % recall_score(Y_test, pred3,average='micro')) \n",
        "# checking the recall value\n",
        "print('F1 score by AdaBoost of testing data is: %.3f' % f1_score(Y_test, pred3,average='micro')) \n",
        "# checking the f2 score"
      ],
      "metadata": {
        "id": "228Qxffe-KW5",
        "colab": {
          "base_uri": "https://localhost:8080/"
        },
        "outputId": "210c0f4b-8db0-4acf-b6b9-ca67efebd751"
      },
      "execution_count": 54,
      "outputs": [
        {
          "output_type": "stream",
          "name": "stdout",
          "text": [
            "Precision by AdaBoost of testing data is: 0.975\n",
            "Recall by AdaBoost of testing data is: 0.975\n",
            "F1 score by AdaBoost of testing data is: 0.975\n"
          ]
        }
      ]
    },
    {
      "cell_type": "code",
      "source": [
        "# to import the cm\n",
        "from sklearn.metrics import confusion_matrix\n",
        "# initializing cm\n",
        "cm2 = confusion_matrix(Y_test,pred1)\n",
        "cm2"
      ],
      "metadata": {
        "colab": {
          "base_uri": "https://localhost:8080/"
        },
        "outputId": "9da9d348-89d4-4f18-f2d6-0182eb9afef6",
        "id": "G1FoBAyV-KW6"
      },
      "execution_count": 55,
      "outputs": [
        {
          "output_type": "execute_result",
          "data": {
            "text/plain": [
              "array([[ 65,   8],\n",
              "       [  3, 873]])"
            ]
          },
          "metadata": {},
          "execution_count": 55
        }
      ]
    },
    {
      "cell_type": "code",
      "source": [
        "# making heat map \n",
        "import seaborn as sns\n",
        "# assigning the color \n",
        "sns.heatmap(cm2,annot=True, fmt='d' , cmap='Greys')\n",
        "# assigning the x-axis label\n",
        "plt.xlabel('Predicted values')\n",
        "# assigning the y-axis label\n",
        "plt.ylabel('Original Values')"
      ],
      "metadata": {
        "colab": {
          "base_uri": "https://localhost:8080/",
          "height": 296
        },
        "outputId": "2014d26f-54c8-415f-8aa5-88360931a052",
        "id": "PXwILw0--KW6"
      },
      "execution_count": 56,
      "outputs": [
        {
          "output_type": "execute_result",
          "data": {
            "text/plain": [
              "Text(33.0, 0.5, 'Original Values')"
            ]
          },
          "metadata": {},
          "execution_count": 56
        },
        {
          "output_type": "display_data",
          "data": {
            "text/plain": [
              "<Figure size 432x288 with 2 Axes>"
            ],
            "image/png": "[encoded data removed]"
          },
          "metadata": {
            "needs_background": "light"
          }
        }
      ]
    },
    {
      "cell_type": "code",
      "source": [
        "# printing Sensitivity accuracy \n",
        "sensitivity = cm2[1,1]/(cm2[1,1]+cm2[1,0])\n",
        "# to het the score of senstivity \n",
        "print('Sensitivity : ', sensitivity)\n",
        "# printing Specificity accuracy \n",
        "specificity = cm2[0,0]/(cm2[0,1]+cm2[0,0])\n",
        "# to get the specificity score\n",
        "print('Specificity : ', specificity)"
      ],
      "metadata": {
        "colab": {
          "base_uri": "https://localhost:8080/"
        },
        "outputId": "b43bd9c5-a597-4ab8-f4e7-912c0aed223c",
        "id": "0Fu_OIl--KW7"
      },
      "execution_count": 57,
      "outputs": [
        {
          "output_type": "stream",
          "name": "stdout",
          "text": [
            "Sensitivity :  0.9965753424657534\n",
            "Specificity :  0.8904109589041096\n"
          ]
        }
      ]
    },
    {
      "cell_type": "markdown",
      "source": [
        "# **After undersampling**"
      ],
      "metadata": {
        "id": "GVrrseUOCcek"
      }
    },
    {
      "cell_type": "code",
      "source": [
        "# example of random undersampling to balance the class distribution\n",
        "from collections import Counter\n",
        "# importing to make classification\n",
        "from sklearn.datasets import make_classification\n",
        "# for undersampling the data \n",
        "from imblearn.under_sampling import RandomUnderSampler\n",
        "undersample = RandomUnderSampler(sampling_strategy='majority')\n",
        "# fit and apply the transform\n",
        "X,Y = undersample.fit_resample(x, y)\n",
        "# summarize class distribution"
      ],
      "metadata": {
        "id": "A8xmVfqDCbVk"
      },
      "execution_count": 58,
      "outputs": []
    },
    {
      "cell_type": "code",
      "source": [
        "# importing the count variable \n",
        "from numpy.ma.core import count\n",
        "# to count the data \n",
        "from collections import Counter\n",
        "# to print the data size\n",
        "a = Counter(Y)\n",
        "a"
      ],
      "metadata": {
        "colab": {
          "base_uri": "https://localhost:8080/"
        },
        "id": "2PSrw-MfCbS9",
        "outputId": "261e0e5b-1db3-4784-a0b9-fb62ba9b0144"
      },
      "execution_count": 59,
      "outputs": [
        {
          "output_type": "execute_result",
          "data": {
            "text/plain": [
              "Counter({0: 244, 1: 244})"
            ]
          },
          "metadata": {},
          "execution_count": 59
        }
      ]
    },
    {
      "cell_type": "code",
      "source": [
        "#count plot graph of target variable of arrival dataset\n",
        "import warnings\n",
        "# to ignore the warnings\n",
        "warnings.filterwarnings('ignore')\n",
        "# to plot the countplot \n",
        "sns.countplot(Y) \n",
        "#  to print the label of x \n",
        "plt.xlabel ( 'Class')\n",
        "#  to print the label of y\n",
        "plt.ylabel ( 'Number')\n",
        "# to print the title of the  graph\n",
        "plt.title ( 'Count Plot of Thyroid disease')  \n",
        "# to draw the chart \n",
        "plt.show()"
      ],
      "metadata": {
        "colab": {
          "base_uri": "https://localhost:8080/",
          "height": 295
        },
        "id": "1zhHomd_CbQX",
        "outputId": "461c4a82-ba65-4c0a-ff2a-4bd217f2d9f0"
      },
      "execution_count": 60,
      "outputs": [
        {
          "output_type": "display_data",
          "data": {
            "text/plain": [
              "<Figure size 432x288 with 1 Axes>"
            ],
            "image/png": "[encoded data removed]"
          },
          "metadata": {
            "needs_background": "light"
          }
        }
      ]
    },
    {
      "cell_type": "code",
      "source": [
        "# splitting the arrival database into fitting and testing \n",
        "from sklearn.model_selection import train_test_split\n",
        "# assigning the attributes \n",
        "x_train, x_test, y_train, y_test = train_test_split(X,Y, test_size=0.3, random_state =42,  stratify=Y ,shuffle=True) "
      ],
      "metadata": {
        "id": "I7YwleZRCbN1"
      },
      "execution_count": 61,
      "outputs": []
    },
    {
      "cell_type": "markdown",
      "source": [
        "# **Model**"
      ],
      "metadata": {
        "id": "t42aacbSDCK-"
      }
    },
    {
      "cell_type": "code",
      "source": [
        "# importing XGB classifier\n",
        "from xgboost import XGBClassifier\n",
        "3# to print the metrics \n",
        "from sklearn import metrics    \n",
        "# initializing the model\n",
        "model_XGB = XGBClassifier(max_depth=11, learning_rate=0.4)\n",
        "# fitting the model\n",
        "model_XGB.fit(x_train, y_train)\n",
        "# predict variable\n",
        "pred1 = model_XGB.predict(x_test)\n",
        "# finding the accuracy\n",
        "print(metrics.accuracy_score( y_test, pred1))"
      ],
      "metadata": {
        "colab": {
          "base_uri": "https://localhost:8080/"
        },
        "outputId": "e87280f9-044c-4974-99cd-7118b4c57840",
        "id": "Bag0GxgZDCLG"
      },
      "execution_count": 62,
      "outputs": [
        {
          "output_type": "stream",
          "name": "stdout",
          "text": [
            "0.9387755102040817\n"
          ]
        }
      ]
    },
    {
      "cell_type": "code",
      "source": [
        "# importing cr , cm \n",
        "from sklearn.metrics import classification_report, confusion_matrix, accuracy_score\n",
        "# to print the cr\n",
        "print(classification_report(y_test, pred1)) \n",
        "print()\n",
        "# reprinting the performance \n",
        "print('Accuracy: ', accuracy_score(y_test, pred1))\n"
      ],
      "metadata": {
        "id": "ZT0Pb95UDCLG",
        "colab": {
          "base_uri": "https://localhost:8080/"
        },
        "outputId": "2f238dd2-d011-4182-d0ba-8778c1c0370a"
      },
      "execution_count": 63,
      "outputs": [
        {
          "output_type": "stream",
          "name": "stdout",
          "text": [
            "              precision    recall  f1-score   support\n",
            "\n",
            "           0       0.93      0.95      0.94        74\n",
            "           1       0.94      0.93      0.94        73\n",
            "\n",
            "    accuracy                           0.94       147\n",
            "   macro avg       0.94      0.94      0.94       147\n",
            "weighted avg       0.94      0.94      0.94       147\n",
            "\n",
            "\n",
            "Accuracy:  0.9387755102040817\n"
          ]
        }
      ]
    },
    {
      "cell_type": "code",
      "source": [
        "# various libraries for report\n",
        "from sklearn.metrics import precision_score,recall_score,f1_score\n",
        "# printing the performance \n",
        "print('Precision by XGB of testing data is: %.3f' % precision_score(y_test, pred1,average='micro')) \n",
        "# checking the precision value\n",
        "print('Recall by XGB of testing data is: %.3f' % recall_score(y_test, pred1,average='micro')) \n",
        "# checking the recall value\n",
        "print('F1 score by XGB of testing data is: %.3f' % f1_score(y_test, pred1,average='micro')) \n",
        "# checking the f2 score"
      ],
      "metadata": {
        "colab": {
          "base_uri": "https://localhost:8080/"
        },
        "outputId": "8a61bc5b-27a1-4733-bd97-7c0c0a4b6da6",
        "id": "UCk5L1MkDCLG"
      },
      "execution_count": 64,
      "outputs": [
        {
          "output_type": "stream",
          "name": "stdout",
          "text": [
            "Precision by XGB of testing data is: 0.939\n",
            "Recall by XGB of testing data is: 0.939\n",
            "F1 score by XGB of testing data is: 0.939\n"
          ]
        }
      ]
    },
    {
      "cell_type": "code",
      "source": [
        "#  importing cm\n",
        "from sklearn.metrics import confusion_matrix\n",
        "# initializing cm\n",
        "cm = confusion_matrix(y_test,pred1)\n",
        "cm"
      ],
      "metadata": {
        "colab": {
          "base_uri": "https://localhost:8080/"
        },
        "outputId": "d1565f65-98a5-416e-ec6c-5e719852b86d",
        "id": "hzirYzOCDCLG"
      },
      "execution_count": 65,
      "outputs": [
        {
          "output_type": "execute_result",
          "data": {
            "text/plain": [
              "array([[70,  4],\n",
              "       [ 5, 68]])"
            ]
          },
          "metadata": {},
          "execution_count": 65
        }
      ]
    },
    {
      "cell_type": "code",
      "source": [
        "# making heat map \n",
        "import seaborn as sns\n",
        "# assigning the color \n",
        "sns.heatmap(cm,annot=True, fmt='d' , cmap='Pastel1_r')\n",
        "# assigning the x-axis label\n",
        "plt.xlabel('Predicted values')\n",
        "# assigning the y-axis label\n",
        "plt.ylabel('Original Values')"
      ],
      "metadata": {
        "colab": {
          "base_uri": "https://localhost:8080/",
          "height": 300
        },
        "outputId": "b18eb74c-851d-401d-dd98-a2c6b8c8a0a5",
        "id": "GXKF2a-pDCLG"
      },
      "execution_count": 66,
      "outputs": [
        {
          "output_type": "execute_result",
          "data": {
            "text/plain": [
              "Text(33.0, 0.5, 'Original Values')"
            ]
          },
          "metadata": {},
          "execution_count": 66
        },
        {
          "output_type": "display_data",
          "data": {
            "text/plain": [
              "<Figure size 432x288 with 2 Axes>"
            ],
            "image/png": "[encoded data removed]"
          },
          "metadata": {
            "needs_background": "light"
          }
        }
      ]
    },
    {
      "cell_type": "code",
      "source": [
        "# printing Sensitivity accuracy \n",
        "sensitivity = cm[1,1]/(cm[1,1]+cm[1,0])\n",
        "# to get the core of the senstivity\n",
        "print('Sensitivity : ', sensitivity)\n",
        "# printing Specificity accuracy \n",
        "specificity = cm[0,0]/(cm[0,1]+cm[0,0])\n",
        "# to get the score of specificity\n",
        "print('Specificity : ', specificity)"
      ],
      "metadata": {
        "colab": {
          "base_uri": "https://localhost:8080/"
        },
        "outputId": "975172c8-cb06-4513-e1c8-2e0f3bfea304",
        "id": "W6j-uRNMDCLH"
      },
      "execution_count": 67,
      "outputs": [
        {
          "output_type": "stream",
          "name": "stdout",
          "text": [
            "Sensitivity :  0.9315068493150684\n",
            "Specificity :  0.9459459459459459\n"
          ]
        }
      ]
    },
    {
      "cell_type": "markdown",
      "source": [
        "# **LGBM**"
      ],
      "metadata": {
        "id": "7Cy2Xfk-DCLH"
      }
    },
    {
      "cell_type": "code",
      "source": [
        "# importing lightgbm classifier\n",
        "import lightgbm as lgb\n",
        "from lightgbm import LGBMClassifier\n",
        "# initializing the model\n",
        "model_LGBM = LGBMClassifier(max_depth=3, learning_rate=0.01)\n",
        "# fitting the model\n",
        "model_LGBM.fit(x_train, y_train)\n",
        "# predict variable\n",
        "pred2 = model_LGBM.predict(x_test)\n",
        "# finding the accuracy\n",
        "print(metrics.accuracy_score( y_test, pred2))"
      ],
      "metadata": {
        "colab": {
          "base_uri": "https://localhost:8080/"
        },
        "outputId": "d0d64e41-dbed-4f9f-a3d1-ed647829ed30",
        "id": "AKJfvWOIDCLH"
      },
      "execution_count": 68,
      "outputs": [
        {
          "output_type": "stream",
          "name": "stdout",
          "text": [
            "0.9387755102040817\n"
          ]
        }
      ]
    },
    {
      "cell_type": "code",
      "source": [
        "# importing cr , cm \n",
        "from sklearn.metrics import classification_report, confusion_matrix, accuracy_score\n",
        "# to print the cr\n",
        "print(classification_report(y_test, pred2)) \n",
        "print()\n",
        "# reprinting the performance \n",
        "print('Accuracy: ', accuracy_score(y_test, pred2))\n"
      ],
      "metadata": {
        "id": "OHbsUpPxDCLH",
        "colab": {
          "base_uri": "https://localhost:8080/"
        },
        "outputId": "e813f588-2cc1-4d9e-a997-173bf30fbc56"
      },
      "execution_count": 69,
      "outputs": [
        {
          "output_type": "stream",
          "name": "stdout",
          "text": [
            "              precision    recall  f1-score   support\n",
            "\n",
            "           0       0.90      0.99      0.94        74\n",
            "           1       0.98      0.89      0.94        73\n",
            "\n",
            "    accuracy                           0.94       147\n",
            "   macro avg       0.94      0.94      0.94       147\n",
            "weighted avg       0.94      0.94      0.94       147\n",
            "\n",
            "\n",
            "Accuracy:  0.9387755102040817\n"
          ]
        }
      ]
    },
    {
      "cell_type": "code",
      "source": [
        "# various libraries for report\n",
        "from sklearn.metrics import precision_score,recall_score,f1_score\n",
        "# printing the performance \n",
        "print('Precision by LGBM of testing data is: %.3f' % precision_score(y_test, pred2,average='micro')) \n",
        "# checking the precision value\n",
        "print('Recall by LGBM of testing data is: %.3f' % recall_score(y_test, pred2,average='micro')) \n",
        "# checking the recall value\n",
        "print('F1 score by LGBM of testing data is: %.3f' % f1_score(y_test, pred2,average='micro')) \n",
        "# checking the f2 score"
      ],
      "metadata": {
        "colab": {
          "base_uri": "https://localhost:8080/"
        },
        "outputId": "09a8e2a9-fcbd-4e05-cf7e-8b925c6ee298",
        "id": "bnppAl0LDCLH"
      },
      "execution_count": 70,
      "outputs": [
        {
          "output_type": "stream",
          "name": "stdout",
          "text": [
            "Precision by LGBM of testing data is: 0.939\n",
            "Recall by LGBM of testing data is: 0.939\n",
            "F1 score by LGBM of testing data is: 0.939\n"
          ]
        }
      ]
    },
    {
      "cell_type": "code",
      "source": [
        "# importing cm\n",
        "from sklearn.metrics import confusion_matrix\n",
        "# initializing cm\n",
        "cm1 = confusion_matrix(y_test,pred2)\n",
        "cm1"
      ],
      "metadata": {
        "colab": {
          "base_uri": "https://localhost:8080/"
        },
        "outputId": "b910477c-d29d-469e-fb48-eb7092651379",
        "id": "WFwOz7mJDCLH"
      },
      "execution_count": 71,
      "outputs": [
        {
          "output_type": "execute_result",
          "data": {
            "text/plain": [
              "array([[73,  1],\n",
              "       [ 8, 65]])"
            ]
          },
          "metadata": {},
          "execution_count": 71
        }
      ]
    },
    {
      "cell_type": "code",
      "source": [
        "# making heat map \n",
        "import seaborn as sns\n",
        "# assigning the color \n",
        "sns.heatmap(cm1,annot=True, fmt='d' , cmap='Pastel2_r')\n",
        "# assigning the x-axis label\n",
        "plt.xlabel('Predicted values')\n",
        "# assigning the y-axis label\n",
        "plt.ylabel('Original Values')"
      ],
      "metadata": {
        "colab": {
          "base_uri": "https://localhost:8080/",
          "height": 296
        },
        "outputId": "cbad4b8d-59aa-4718-ae66-9f1ac3172c10",
        "id": "2AMiTxgiDCLH"
      },
      "execution_count": 72,
      "outputs": [
        {
          "output_type": "execute_result",
          "data": {
            "text/plain": [
              "Text(33.0, 0.5, 'Original Values')"
            ]
          },
          "metadata": {},
          "execution_count": 72
        },
        {
          "output_type": "display_data",
          "data": {
            "text/plain": [
              "<Figure size 432x288 with 2 Axes>"
            ],
            "image/png": "[encoded data removed]"
          },
          "metadata": {
            "needs_background": "light"
          }
        }
      ]
    },
    {
      "cell_type": "code",
      "source": [
        "# printing Sensitivity accuracy \n",
        "sensitivity = cm1[1,1]/(cm1[1,1]+cm1[1,0])\n",
        "# to get the score of sentivity\n",
        "print('Sensitivity : ', sensitivity)\n",
        "# printing Specificity accuracy \n",
        "specificity = cm1[0,0]/(cm1[0,1]+cm1[0,0])\n",
        "# to get the score of specificity\n",
        "print('Specificity : ', specificity)"
      ],
      "metadata": {
        "colab": {
          "base_uri": "https://localhost:8080/"
        },
        "outputId": "0bd3bd98-0bf8-4f41-c642-8126cf1ba3cc",
        "id": "q09APXtsDCLH"
      },
      "execution_count": 73,
      "outputs": [
        {
          "output_type": "stream",
          "name": "stdout",
          "text": [
            "Sensitivity :  0.8904109589041096\n",
            "Specificity :  0.9864864864864865\n"
          ]
        }
      ]
    },
    {
      "cell_type": "markdown",
      "source": [
        "# **ADABOOST**"
      ],
      "metadata": {
        "id": "Ir5o5mADDCLH"
      }
    },
    {
      "cell_type": "code",
      "source": [
        "#importing the model\n",
        "from sklearn.ensemble import RandomForestClassifier\n",
        "# initializing the model\n",
        "tree = RandomForestClassifier()"
      ],
      "metadata": {
        "id": "R2_ZPOjsDCLI"
      },
      "execution_count": 74,
      "outputs": []
    },
    {
      "cell_type": "code",
      "source": [
        "# importing the AdaBoostClassifier\n",
        "from sklearn.ensemble import AdaBoostClassifier\n",
        "# initializing the model\n",
        "model_AB = AdaBoostClassifier(base_estimator=tree)\n",
        "# fitting the model\n",
        "model_AB.fit(x_train, y_train)\n",
        "# predict variable\n",
        "pred3 = model_AB.predict(x_test)\n",
        "# finding the accuracy\n",
        "print(metrics.accuracy_score( y_test, pred3))"
      ],
      "metadata": {
        "colab": {
          "base_uri": "https://localhost:8080/"
        },
        "outputId": "93d730f4-71fc-4f6e-b9aa-dc929245decd",
        "id": "KIia73Y_DCLI"
      },
      "execution_count": 75,
      "outputs": [
        {
          "output_type": "stream",
          "name": "stdout",
          "text": [
            "0.891156462585034\n"
          ]
        }
      ]
    },
    {
      "cell_type": "code",
      "source": [
        "# importing cr , cm \n",
        "from sklearn.metrics import classification_report, confusion_matrix, accuracy_score\n",
        "print(classification_report(y_test, pred3)) \n",
        "print()\n",
        "# reprinting the performance \n",
        "print('Accuracy: ', accuracy_score(y_test, pred3))\n"
      ],
      "metadata": {
        "id": "gBuRuLONDCLI",
        "colab": {
          "base_uri": "https://localhost:8080/"
        },
        "outputId": "ed3e523d-5753-4a04-87bb-2e91a86406ea"
      },
      "execution_count": 76,
      "outputs": [
        {
          "output_type": "stream",
          "name": "stdout",
          "text": [
            "              precision    recall  f1-score   support\n",
            "\n",
            "           0       0.89      0.89      0.89        74\n",
            "           1       0.89      0.89      0.89        73\n",
            "\n",
            "    accuracy                           0.89       147\n",
            "   macro avg       0.89      0.89      0.89       147\n",
            "weighted avg       0.89      0.89      0.89       147\n",
            "\n",
            "\n",
            "Accuracy:  0.891156462585034\n"
          ]
        }
      ]
    },
    {
      "cell_type": "code",
      "source": [
        "# various libraries for report\n",
        "from sklearn.metrics import precision_score,recall_score,f1_score\n",
        "# printing the performance \n",
        "print('Precision by AdaBoost of testing data is: %.3f' % precision_score(y_test, pred3,average='micro')) \n",
        "# checking the precision value\n",
        "print('Recall by AdaBoost of testing data is: %.3f' % recall_score(y_test, pred3,average='micro')) \n",
        "# checking the recall value\n",
        "print('F1 score by AdaBoost of testing data is: %.3f' % f1_score(y_test, pred3,average='micro')) \n",
        "# checking the f2 score"
      ],
      "metadata": {
        "colab": {
          "base_uri": "https://localhost:8080/"
        },
        "outputId": "a393907d-fce6-431a-d274-1085e0330d9e",
        "id": "zUcAISXyDCLI"
      },
      "execution_count": 77,
      "outputs": [
        {
          "output_type": "stream",
          "name": "stdout",
          "text": [
            "Precision by AdaBoost of testing data is: 0.891\n",
            "Recall by AdaBoost of testing data is: 0.891\n",
            "F1 score by AdaBoost of testing data is: 0.891\n"
          ]
        }
      ]
    },
    {
      "cell_type": "code",
      "source": [
        "# importing cm\n",
        "from sklearn.metrics import confusion_matrix\n",
        "# initializing cm\n",
        "cm2 = confusion_matrix(y_test,pred1)\n",
        "cm2"
      ],
      "metadata": {
        "colab": {
          "base_uri": "https://localhost:8080/"
        },
        "outputId": "7ff07035-7137-40a9-8d6b-c41db7fd3010",
        "id": "igBsgk0ODCLI"
      },
      "execution_count": 78,
      "outputs": [
        {
          "output_type": "execute_result",
          "data": {
            "text/plain": [
              "array([[70,  4],\n",
              "       [ 5, 68]])"
            ]
          },
          "metadata": {},
          "execution_count": 78
        }
      ]
    },
    {
      "cell_type": "code",
      "source": [
        "# making heat map \n",
        "import seaborn as sns\n",
        "# assigning the color \n",
        "sns.heatmap(cm2,annot=True, fmt='d' , cmap='RdYlBu_r')\n",
        "# assigning the x-axis label\n",
        "plt.xlabel('Predicted values')\n",
        "# assigning the y-axis label\n",
        "plt.ylabel('Original Values')"
      ],
      "metadata": {
        "colab": {
          "base_uri": "https://localhost:8080/",
          "height": 300
        },
        "outputId": "015aaacb-d405-47ef-fb3b-de33e0938955",
        "id": "NyGOc9f4DCLI"
      },
      "execution_count": 80,
      "outputs": [
        {
          "output_type": "execute_result",
          "data": {
            "text/plain": [
              "Text(33.0, 0.5, 'Original Values')"
            ]
          },
          "metadata": {},
          "execution_count": 80
        },
        {
          "output_type": "display_data",
          "data": {
            "text/plain": [
              "<Figure size 432x288 with 2 Axes>"
            ],
            "image/png": "[encoded data removed]"
          },
          "metadata": {
            "needs_background": "light"
          }
        }
      ]
    },
    {
      "cell_type": "code",
      "source": [
        "# printing Sensitivity accuracy \n",
        "sensitivity = cm2[1,1]/(cm2[1,1]+cm2[1,0])\n",
        "# to get the score of senstivity\n",
        "print('Sensitivity : ', sensitivity)\n",
        "# printing Specificity accuracy \n",
        "specificity = cm2[0,0]/(cm2[0,1]+cm2[0,0])\n",
        "# to get the score of specificity\n",
        "print('Specificity : ', specificity)"
      ],
      "metadata": {
        "colab": {
          "base_uri": "https://localhost:8080/"
        },
        "outputId": "2e52b840-6077-41c6-f7d8-f83fde1cc985",
        "id": "qVE7QVGBDCLJ"
      },
      "execution_count": 81,
      "outputs": [
        {
          "output_type": "stream",
          "name": "stdout",
          "text": [
            "Sensitivity :  0.9315068493150684\n",
            "Specificity :  0.9459459459459459\n"
          ]
        }
      ]
    },
    {
      "cell_type": "code",
      "source": [],
      "metadata": {
        "id": "Z1rlMEuxFFZb"
      },
      "execution_count": 81,
      "outputs": []
    }
  ]
}